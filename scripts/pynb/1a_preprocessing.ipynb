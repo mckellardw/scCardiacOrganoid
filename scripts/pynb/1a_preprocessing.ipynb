{
 "cells": [
  {
   "cell_type": "markdown",
   "id": "3b243163-59e6-4a31-b40f-96a05a60e2b5",
   "metadata": {
    "tags": []
   },
   "source": [
    "# Initial preprocessing, integration, clustering, and dimensional reduction analyses"
   ]
  },
  {
   "cell_type": "markdown",
   "id": "0ff72cc6-0532-4782-aa9a-757fa2223863",
   "metadata": {
    "tags": []
   },
   "source": [
    "### Notebook setup"
   ]
  },
  {
   "cell_type": "code",
   "execution_count": 150,
   "id": "9f55f459",
   "metadata": {},
   "outputs": [],
   "source": [
    "from itertools import chain\n",
    "from itertools import product\n",
    "import numpy as np\n",
    "import anndata as ad\n",
    "import pandas as pd\n",
    "import scanpy as sc\n",
    "import scanpy.external as sce\n",
    "import harmonypy as harmony\n",
    "import seaborn as sns\n",
    "from scipy import io\n",
    "from scipy import sparse\n",
    "\n",
    "# import scvelo as scv\n",
    "# import cellrank as cr"
   ]
  },
  {
   "cell_type": "code",
   "execution_count": 151,
   "id": "21faa6a5-f65c-4029-9849-4affc6032d51",
   "metadata": {},
   "outputs": [],
   "source": [
    "import matplotlib\n",
    "matplotlib.use('TkAgg')"
   ]
  },
  {
   "cell_type": "code",
   "execution_count": 152,
   "id": "e5db9131",
   "metadata": {},
   "outputs": [],
   "source": [
    "import gc\n",
    "gc.enable()"
   ]
  },
  {
   "cell_type": "code",
   "execution_count": 153,
   "id": "d60ab400",
   "metadata": {},
   "outputs": [],
   "source": [
    "import os\n",
    "os.chdir('/local/workdir/dwm269/scCardiacOrganoid/')"
   ]
  },
  {
   "cell_type": "code",
   "execution_count": 154,
   "id": "a674f409-2702-4813-a305-18a1dd82920b",
   "metadata": {},
   "outputs": [],
   "source": [
    "from scripts.py.utils import *\n",
    "from scripts.py.plots import *"
   ]
  },
  {
   "cell_type": "code",
   "execution_count": 155,
   "id": "3c1c6e3b-55cc-475d-a267-effb30c654e7",
   "metadata": {},
   "outputs": [],
   "source": [
    "# from importlib import reload\n",
    "\n",
    "# from scripts.py.scantils import *\n",
    "# import scripts # get module reference for reload\n",
    "# reload(scripts.py.scantils) # reload step 1\n",
    "# from scripts.py.scantils import * # reload step 2"
   ]
  },
  {
   "cell_type": "code",
   "execution_count": 156,
   "id": "b9f7e591",
   "metadata": {},
   "outputs": [
    {
     "name": "stdout",
     "output_type": "stream",
     "text": [
      "scanpy==1.9.1 anndata==0.8.0 umap==0.5.3 numpy==1.23.5 scipy==1.9.3 pandas==1.5.2 scikit-learn==1.1.3 statsmodels==0.13.5 python-igraph==0.10.2 pynndescent==0.5.8\n"
     ]
    }
   ],
   "source": [
    "sc.settings.verbosity = 3             # verbosity: errors (0), warnings (1), info (2), hints (3)\n",
    "sc.logging.print_header()\n",
    "sc.settings.set_figure_params(\n",
    "    dpi_save=400, dpi=200, \n",
    "    transparent=False, \n",
    "    color_map=\"plasma\"\n",
    ")"
   ]
  },
  {
   "cell_type": "code",
   "execution_count": 157,
   "id": "408f0c18",
   "metadata": {},
   "outputs": [
    {
     "data": {
      "text/html": [
       "<div>\n",
       "<style scoped>\n",
       "    .dataframe tbody tr th:only-of-type {\n",
       "        vertical-align: middle;\n",
       "    }\n",
       "\n",
       "    .dataframe tbody tr th {\n",
       "        vertical-align: top;\n",
       "    }\n",
       "\n",
       "    .dataframe thead th {\n",
       "        text-align: right;\n",
       "    }\n",
       "</style>\n",
       "<table border=\"1\" class=\"dataframe\">\n",
       "  <thead>\n",
       "    <tr style=\"text-align: right;\">\n",
       "      <th></th>\n",
       "      <th>sample</th>\n",
       "      <th>include</th>\n",
       "      <th>data.dir</th>\n",
       "      <th>pattern</th>\n",
       "      <th>pattern_int</th>\n",
       "      <th>timepoint</th>\n",
       "      <th>time_int</th>\n",
       "      <th>cell_line</th>\n",
       "      <th>source</th>\n",
       "      <th>soupx</th>\n",
       "      <th>soupx_rho_GeneFull</th>\n",
       "    </tr>\n",
       "  </thead>\n",
       "  <tbody>\n",
       "    <tr>\n",
       "      <th>0</th>\n",
       "      <td>D0_600um</td>\n",
       "      <td>True</td>\n",
       "      <td>/workdir/dwm269/scCardiacOrganoid/data/STARsol...</td>\n",
       "      <td>600um</td>\n",
       "      <td>600.0</td>\n",
       "      <td>D0</td>\n",
       "      <td>0</td>\n",
       "      <td>GCaMP6f hiPSCs</td>\n",
       "      <td>Hoang et al</td>\n",
       "      <td>False</td>\n",
       "      <td>NaN</td>\n",
       "    </tr>\n",
       "    <tr>\n",
       "      <th>1</th>\n",
       "      <td>D1_600um</td>\n",
       "      <td>True</td>\n",
       "      <td>/workdir/dwm269/scCardiacOrganoid/data/STARsol...</td>\n",
       "      <td>600um</td>\n",
       "      <td>600.0</td>\n",
       "      <td>D1</td>\n",
       "      <td>1</td>\n",
       "      <td>GCaMP6f hiPSCs</td>\n",
       "      <td>Hoang et al</td>\n",
       "      <td>False</td>\n",
       "      <td>NaN</td>\n",
       "    </tr>\n",
       "    <tr>\n",
       "      <th>2</th>\n",
       "      <td>D4_200um</td>\n",
       "      <td>True</td>\n",
       "      <td>/workdir/dwm269/scCardiacOrganoid/data/STARsol...</td>\n",
       "      <td>200um</td>\n",
       "      <td>200.0</td>\n",
       "      <td>D4</td>\n",
       "      <td>4</td>\n",
       "      <td>GCaMP6f hiPSCs</td>\n",
       "      <td>Hoang et al</td>\n",
       "      <td>True</td>\n",
       "      <td>0.076</td>\n",
       "    </tr>\n",
       "    <tr>\n",
       "      <th>3</th>\n",
       "      <td>D4_600um</td>\n",
       "      <td>True</td>\n",
       "      <td>/workdir/dwm269/scCardiacOrganoid/data/STARsol...</td>\n",
       "      <td>600um</td>\n",
       "      <td>600.0</td>\n",
       "      <td>D4</td>\n",
       "      <td>4</td>\n",
       "      <td>GCaMP6f hiPSCs</td>\n",
       "      <td>Hoang et al</td>\n",
       "      <td>True</td>\n",
       "      <td>0.070</td>\n",
       "    </tr>\n",
       "    <tr>\n",
       "      <th>4</th>\n",
       "      <td>D4_1000um</td>\n",
       "      <td>True</td>\n",
       "      <td>/workdir/dwm269/scCardiacOrganoid/data/STARsol...</td>\n",
       "      <td>1000um</td>\n",
       "      <td>1000.0</td>\n",
       "      <td>D4</td>\n",
       "      <td>4</td>\n",
       "      <td>GCaMP6f hiPSCs</td>\n",
       "      <td>Hoang et al</td>\n",
       "      <td>True</td>\n",
       "      <td>0.140</td>\n",
       "    </tr>\n",
       "    <tr>\n",
       "      <th>5</th>\n",
       "      <td>D6_600um</td>\n",
       "      <td>True</td>\n",
       "      <td>/workdir/dwm269/scCardiacOrganoid/data/STARsol...</td>\n",
       "      <td>600um</td>\n",
       "      <td>600.0</td>\n",
       "      <td>D6</td>\n",
       "      <td>6</td>\n",
       "      <td>GCaMP6f hiPSCs</td>\n",
       "      <td>Hoang et al</td>\n",
       "      <td>True</td>\n",
       "      <td>0.029</td>\n",
       "    </tr>\n",
       "    <tr>\n",
       "      <th>6</th>\n",
       "      <td>D8_600um</td>\n",
       "      <td>True</td>\n",
       "      <td>/workdir/dwm269/scCardiacOrganoid/data/STARsol...</td>\n",
       "      <td>600um</td>\n",
       "      <td>600.0</td>\n",
       "      <td>D8</td>\n",
       "      <td>8</td>\n",
       "      <td>GCaMP6f hiPSCs</td>\n",
       "      <td>Hoang et al</td>\n",
       "      <td>True</td>\n",
       "      <td>0.015</td>\n",
       "    </tr>\n",
       "    <tr>\n",
       "      <th>7</th>\n",
       "      <td>D12_600um</td>\n",
       "      <td>True</td>\n",
       "      <td>/workdir/dwm269/scCardiacOrganoid/data/STARsol...</td>\n",
       "      <td>600um</td>\n",
       "      <td>600.0</td>\n",
       "      <td>D12</td>\n",
       "      <td>12</td>\n",
       "      <td>GCaMP6f hiPSCs</td>\n",
       "      <td>Hoang et al</td>\n",
       "      <td>True</td>\n",
       "      <td>0.017</td>\n",
       "    </tr>\n",
       "    <tr>\n",
       "      <th>8</th>\n",
       "      <td>D21_200um_B</td>\n",
       "      <td>True</td>\n",
       "      <td>/workdir/dwm269/scCardiacOrganoid/data/STARsol...</td>\n",
       "      <td>200um</td>\n",
       "      <td>200.0</td>\n",
       "      <td>D21</td>\n",
       "      <td>21</td>\n",
       "      <td>GCaMP6f hiPSCs</td>\n",
       "      <td>Hoang et al</td>\n",
       "      <td>True</td>\n",
       "      <td>0.011</td>\n",
       "    </tr>\n",
       "    <tr>\n",
       "      <th>9</th>\n",
       "      <td>D21_600um</td>\n",
       "      <td>True</td>\n",
       "      <td>/workdir/dwm269/scCardiacOrganoid/data/STARsol...</td>\n",
       "      <td>600um</td>\n",
       "      <td>600.0</td>\n",
       "      <td>D21</td>\n",
       "      <td>21</td>\n",
       "      <td>GCaMP6f hiPSCs</td>\n",
       "      <td>Hoang et al</td>\n",
       "      <td>True</td>\n",
       "      <td>0.039</td>\n",
       "    </tr>\n",
       "    <tr>\n",
       "      <th>10</th>\n",
       "      <td>D21_1000um_B</td>\n",
       "      <td>True</td>\n",
       "      <td>/workdir/dwm269/scCardiacOrganoid/data/STARsol...</td>\n",
       "      <td>1000um</td>\n",
       "      <td>1000.0</td>\n",
       "      <td>D21</td>\n",
       "      <td>21</td>\n",
       "      <td>GCaMP6f hiPSCs</td>\n",
       "      <td>Hoang et al</td>\n",
       "      <td>True</td>\n",
       "      <td>0.030</td>\n",
       "    </tr>\n",
       "  </tbody>\n",
       "</table>\n",
       "</div>"
      ],
      "text/plain": [
       "          sample  include                                           data.dir  \\\n",
       "0       D0_600um     True  /workdir/dwm269/scCardiacOrganoid/data/STARsol...   \n",
       "1       D1_600um     True  /workdir/dwm269/scCardiacOrganoid/data/STARsol...   \n",
       "2       D4_200um     True  /workdir/dwm269/scCardiacOrganoid/data/STARsol...   \n",
       "3       D4_600um     True  /workdir/dwm269/scCardiacOrganoid/data/STARsol...   \n",
       "4      D4_1000um     True  /workdir/dwm269/scCardiacOrganoid/data/STARsol...   \n",
       "5       D6_600um     True  /workdir/dwm269/scCardiacOrganoid/data/STARsol...   \n",
       "6       D8_600um     True  /workdir/dwm269/scCardiacOrganoid/data/STARsol...   \n",
       "7      D12_600um     True  /workdir/dwm269/scCardiacOrganoid/data/STARsol...   \n",
       "8    D21_200um_B     True  /workdir/dwm269/scCardiacOrganoid/data/STARsol...   \n",
       "9      D21_600um     True  /workdir/dwm269/scCardiacOrganoid/data/STARsol...   \n",
       "10  D21_1000um_B     True  /workdir/dwm269/scCardiacOrganoid/data/STARsol...   \n",
       "\n",
       "   pattern  pattern_int timepoint  time_int       cell_line       source  \\\n",
       "0    600um        600.0        D0         0  GCaMP6f hiPSCs  Hoang et al   \n",
       "1    600um        600.0        D1         1  GCaMP6f hiPSCs  Hoang et al   \n",
       "2    200um        200.0        D4         4  GCaMP6f hiPSCs  Hoang et al   \n",
       "3    600um        600.0        D4         4  GCaMP6f hiPSCs  Hoang et al   \n",
       "4   1000um       1000.0        D4         4  GCaMP6f hiPSCs  Hoang et al   \n",
       "5    600um        600.0        D6         6  GCaMP6f hiPSCs  Hoang et al   \n",
       "6    600um        600.0        D8         8  GCaMP6f hiPSCs  Hoang et al   \n",
       "7    600um        600.0       D12        12  GCaMP6f hiPSCs  Hoang et al   \n",
       "8    200um        200.0       D21        21  GCaMP6f hiPSCs  Hoang et al   \n",
       "9    600um        600.0       D21        21  GCaMP6f hiPSCs  Hoang et al   \n",
       "10  1000um       1000.0       D21        21  GCaMP6f hiPSCs  Hoang et al   \n",
       "\n",
       "    soupx  soupx_rho_GeneFull  \n",
       "0   False                 NaN  \n",
       "1   False                 NaN  \n",
       "2    True               0.076  \n",
       "3    True               0.070  \n",
       "4    True               0.140  \n",
       "5    True               0.029  \n",
       "6    True               0.015  \n",
       "7    True               0.017  \n",
       "8    True               0.011  \n",
       "9    True               0.039  \n",
       "10   True               0.030  "
      ]
     },
     "execution_count": 157,
     "metadata": {},
     "output_type": "execute_result"
    }
   ],
   "source": [
    "# Load metadata\n",
    "meta = pd.read_csv(\"resources/metadata.csv\")\n",
    "meta = meta.loc[meta[\"source\"]==\"Hoang et al\",]\n",
    "meta = meta.loc[meta[\"include\"],]\n",
    "\n",
    "meta.index = list(range(0, len(meta)))\n",
    "meta"
   ]
  },
  {
   "cell_type": "markdown",
   "id": "c4fe96d2-a0ea-4ff0-9080-a1d016ddcfef",
   "metadata": {},
   "source": [
    "Utility functions that I use during analyses - can find them in `scripts/py/scantils.py`"
   ]
  },
  {
   "cell_type": "markdown",
   "id": "597a7b92-62c4-4ec9-9ba9-b8d341b2e416",
   "metadata": {
    "tags": []
   },
   "source": [
    "## Load dataset(s)"
   ]
  },
  {
   "cell_type": "markdown",
   "id": "ae5257cf-3e8e-4ef5-8806-e21d0e387d4d",
   "metadata": {},
   "source": [
    "Load in count mats & initialize adata object(s)"
   ]
  },
  {
   "cell_type": "code",
   "execution_count": 158,
   "id": "f26a17e6",
   "metadata": {
    "tags": []
   },
   "outputs": [
    {
     "name": "stdout",
     "output_type": "stream",
     "text": [
      "Sample: D0_600um\n",
      "--> This might be very slow. Consider passing `cache=True`, which enables much faster reading from a cache file.\n"
     ]
    },
    {
     "name": "stderr",
     "output_type": "stream",
     "text": [
      "/home/dwm269/miniconda3/envs/pyRNA6/lib/python3.10/site-packages/anndata/utils.py:111: UserWarning: Suffix used (-[0-9]+) to deduplicate index values may make index values difficult to interpret. There values with a similar suffixes in the index. Consider using a different delimiter by passing `join={delimiter}`Example key collisions generated by the make_index_unique algorithm: ['SNORD116-1', 'SNORD116-2', 'SNORD116-3', 'SNORD116-4', 'SNORD116-5']\n",
      "  warnings.warn(\n"
     ]
    },
    {
     "name": "stdout",
     "output_type": "stream",
     "text": [
      "     Loaded 10762 cells and 67049 genes...\n",
      "Sample: D1_600um\n",
      "--> This might be very slow. Consider passing `cache=True`, which enables much faster reading from a cache file.\n"
     ]
    },
    {
     "name": "stderr",
     "output_type": "stream",
     "text": [
      "/home/dwm269/miniconda3/envs/pyRNA6/lib/python3.10/site-packages/anndata/utils.py:111: UserWarning: Suffix used (-[0-9]+) to deduplicate index values may make index values difficult to interpret. There values with a similar suffixes in the index. Consider using a different delimiter by passing `join={delimiter}`Example key collisions generated by the make_index_unique algorithm: ['SNORD116-1', 'SNORD116-2', 'SNORD116-3', 'SNORD116-4', 'SNORD116-5']\n",
      "  warnings.warn(\n"
     ]
    },
    {
     "name": "stdout",
     "output_type": "stream",
     "text": [
      "     Loaded 10993 cells and 67049 genes...\n",
      "Sample: D4_200um\n",
      "     Loaded 7921 cells and 67049 genes...\n",
      "Sample: D4_600um\n",
      "     Loaded 9038 cells and 67049 genes...\n",
      "Sample: D4_1000um\n",
      "     Loaded 11415 cells and 67049 genes...\n",
      "Sample: D6_600um\n",
      "     Loaded 7652 cells and 67049 genes...\n",
      "Sample: D8_600um\n",
      "     Loaded 10789 cells and 67049 genes...\n",
      "Sample: D12_600um\n",
      "     Loaded 7277 cells and 67049 genes...\n",
      "Sample: D21_200um_B\n",
      "     Loaded 5972 cells and 67049 genes...\n",
      "Sample: D21_600um\n",
      "     Loaded 15243 cells and 67049 genes...\n",
      "Sample: D21_1000um_B\n",
      "     Loaded 10534 cells and 67049 genes...\n"
     ]
    }
   ],
   "source": [
    "adata_list = []\n",
    "for i in range(0,meta.shape[0]):\n",
    "    print(\"Sample: \" + meta[\"sample\"][i])\n",
    "    \n",
    "    if meta[\"soupx\"][i]:\n",
    "        # Scrubbed matrices from soupx don't have features saved in 10x format, need manual loading\n",
    "        tmp=sc.read_mtx(filename=meta[\"data.dir\"][i]+\"/Solo.out/GeneFull/soupx/matrix.mtx.gz\").transpose()\n",
    "        tmp.var_names = np.loadtxt(meta[\"data.dir\"][i]+\"/Solo.out/GeneFull/soupx/features.tsv.gz\",dtype=\"str\")\n",
    "        tmp.obs_names = np.loadtxt(meta[\"data.dir\"][i]+\"/Solo.out/GeneFull/soupx/barcodes.tsv.gz\",dtype=\"str\")\n",
    "        \n",
    "        adata_list.append(tmp)    \n",
    "    else:        \n",
    "        adata_list.append(\n",
    "            sc.read_10x_mtx(\n",
    "                path=meta[\"data.dir\"][i]+\"/Solo.out/GeneFull/filtered\", \n",
    "                var_names='gene_symbols',\n",
    "                make_unique=True,\n",
    "                cache=False \n",
    "            )\n",
    "        )    \n",
    "    adata_list[i].var_names_make_unique()  # this is unnecessary if using `var_names='gene_ids'` in `sc.read_10x_mtx`\n",
    "    \n",
    "    adata_list[i].layers['counts'] = adata_list[i].X # save counts as a layer for future plotting\n",
    "    \n",
    "    print(\"     Loaded \" + str(adata_list[i].shape[0]) + \" cells and \" + str(adata_list[i].shape[1]) + \" genes...\")"
   ]
  },
  {
   "cell_type": "markdown",
   "id": "0da048b6-78b4-4c54-a8d7-84688f7b7834",
   "metadata": {},
   "source": [
    "Add metadata to each anndata object"
   ]
  },
  {
   "cell_type": "code",
   "execution_count": 159,
   "id": "cca87bf3",
   "metadata": {},
   "outputs": [],
   "source": [
    "for i in range(0,meta.shape[0]): #samples\n",
    "    for j in range(0,meta.shape[1]): #metadata features\n",
    "        adata_list[i].obs[meta.columns[j]] = meta.iloc[i,j]"
   ]
  },
  {
   "cell_type": "markdown",
   "id": "2f8b2226-85e8-4978-a456-a27f265881e7",
   "metadata": {},
   "source": [
    "Draw knee plots to show quality of each dataset  \n",
    "[code source](https://www.kallistobus.tools/tutorials/kb_building_atlas/python/kb_analysis_0_python/)"
   ]
  },
  {
   "cell_type": "code",
   "execution_count": 160,
   "id": "bb1ac348-9726-4059-ab99-cd0dfc14f1f4",
   "metadata": {},
   "outputs": [],
   "source": [
    "# import matplotlib.pyplot as plt\n",
    "# expected_num_cells = 10000\n",
    "\n",
    "# for i in range(0,meta.shape[0]):\n",
    "#     knee = np.sort((np.array(adata_list[i].X.sum(axis=1))).flatten())[::-1]\n",
    "\n",
    "#     fig, ax = plt.subplots(figsize=(10, 7))\n",
    "\n",
    "#     ax.loglog(knee, range(len(knee)), linewidth=3, color=\"b\")\n",
    "#     #ax.axvline(x=knee[expected_num_cells], linewidth=3, color=\"k\")\n",
    "#     #ax.axhline(y=expected_num_cells, linewidth=3, color=\"k\")\n",
    "\n",
    "#     ax.set_xlabel(\"UMI Counts\")\n",
    "#     ax.set_ylabel(\"Set of Barcodes\")\n",
    "#     ax.set_title(adata_list[i].obs[\"sample\"][0])\n",
    "\n",
    "#     plt.xlim([0, 20000])\n",
    "#     plt.grid(True, which=\"both\")\n",
    "#     plt.show()"
   ]
  },
  {
   "cell_type": "markdown",
   "id": "5118b2c9",
   "metadata": {
    "tags": []
   },
   "source": [
    "## Filter and preprocess individual datasets"
   ]
  },
  {
   "cell_type": "code",
   "execution_count": 161,
   "id": "0028361c",
   "metadata": {
    "scrolled": true,
    "tags": []
   },
   "outputs": [
    {
     "name": "stdout",
     "output_type": "stream",
     "text": [
      "D0_600um: 10762 cells and 67049 features...\n",
      "filtered out 135 cells that have less than 500 genes expressed\n",
      "filtered out 546 cells that have less than 1500 counts\n",
      "filtered out 37765 genes that are detected in less than 5 cells\n",
      "After filtering: 9869 cells and 29284 features...\n",
      " \n",
      "D1_600um: 10993 cells and 67049 features...\n",
      "filtered out 21 cells that have less than 500 genes expressed\n",
      "filtered out 23 cells that have less than 1500 counts\n",
      "filtered out 37617 genes that are detected in less than 5 cells\n",
      "After filtering: 10687 cells and 29432 features...\n",
      " \n",
      "D4_200um: 7921 cells and 67049 features...\n",
      "filtered out 116 cells that have less than 500 genes expressed\n",
      "filtered out 191 cells that have less than 1500 counts\n",
      "filtered out 35854 genes that are detected in less than 5 cells\n",
      "After filtering: 7591 cells and 31195 features...\n",
      " \n",
      "D4_600um: 9038 cells and 67049 features...\n",
      "filtered out 13 cells that have less than 500 genes expressed\n",
      "filtered out 83 cells that have less than 1500 counts\n",
      "filtered out 37369 genes that are detected in less than 5 cells\n",
      "After filtering: 8838 cells and 29680 features...\n",
      " \n",
      "D4_1000um: 11415 cells and 67049 features...\n",
      "filtered out 149 cells that have less than 500 genes expressed\n",
      "filtered out 788 cells that have less than 1500 counts\n",
      "filtered out 36263 genes that are detected in less than 5 cells\n",
      "After filtering: 10445 cells and 30786 features...\n",
      " \n",
      "D6_600um: 7652 cells and 67049 features...\n",
      "filtered out 41 cells that have less than 500 genes expressed\n",
      "filtered out 173 cells that have less than 1500 counts\n",
      "filtered out 36261 genes that are detected in less than 5 cells\n",
      "After filtering: 7424 cells and 30788 features...\n",
      " \n",
      "D8_600um: 10789 cells and 67049 features...\n",
      "filtered out 149 cells that have less than 500 genes expressed\n",
      "filtered out 402 cells that have less than 1500 counts\n",
      "filtered out 35404 genes that are detected in less than 5 cells\n",
      "After filtering: 10174 cells and 31645 features...\n",
      " \n",
      "D12_600um: 7277 cells and 67049 features...\n",
      "filtered out 526 cells that have less than 500 genes expressed\n",
      "filtered out 362 cells that have less than 1500 counts\n",
      "filtered out 37456 genes that are detected in less than 5 cells\n",
      "After filtering: 6199 cells and 29593 features...\n",
      " \n",
      "D21_200um_B: 5972 cells and 67049 features...\n",
      "filtered out 261 cells that have less than 500 genes expressed\n",
      "filtered out 309 cells that have less than 1500 counts\n",
      "filtered out 39664 genes that are detected in less than 5 cells\n",
      "After filtering: 5350 cells and 27385 features...\n",
      " \n",
      "D21_600um: 15243 cells and 67049 features...\n",
      "filtered out 506 cells that have less than 500 genes expressed\n",
      "filtered out 697 cells that have less than 1500 counts\n",
      "filtered out 36184 genes that are detected in less than 5 cells\n",
      "After filtering: 13707 cells and 30865 features...\n",
      " \n",
      "D21_1000um_B: 10534 cells and 67049 features...\n",
      "filtered out 393 cells that have less than 500 genes expressed\n",
      "filtered out 684 cells that have less than 1500 counts\n",
      "filtered out 38890 genes that are detected in less than 5 cells\n",
      "After filtering: 9446 cells and 28159 features...\n",
      " \n"
     ]
    }
   ],
   "source": [
    "# gene/transcript, mito filters count filters\n",
    "for i in range(0,meta.shape[0]):\n",
    "    print(meta[\"sample\"][i] + ': ' + str(adata_list[i].shape[0]) + \" cells and \" + str(adata_list[i].shape[1]) +' features...')  \n",
    "    \n",
    "    # Hard filters for feature and UMI counts\n",
    "    sc.pp.filter_cells(\n",
    "        adata_list[i],\n",
    "        min_genes=500\n",
    "    )\n",
    "    sc.pp.filter_cells(\n",
    "        adata_list[i], \n",
    "        min_counts=1500\n",
    "    )\n",
    "    \n",
    "    # Hard filter for sparsely detected features\n",
    "    sc.pp.filter_genes(\n",
    "        adata_list[i],\n",
    "        min_cells=5\n",
    "    ) \n",
    "        \n",
    "    adata_list[i].var['mito'] = adata_list[i].var_names.str.startswith('MT-')  # annotate the group of mitochondrial genes as 'mt'\n",
    "    sc.pp.calculate_qc_metrics(\n",
    "        adata_list[i], \n",
    "        qc_vars=['mito'], \n",
    "        percent_top=None, \n",
    "        log1p=False, \n",
    "        inplace=True\n",
    "    )  \n",
    "    \n",
    "    # QC filter(s)\n",
    "    adata_list[i] = adata_list[i][adata_list[i].obs.pct_counts_mito < 20, :] # less than 20% mito \n",
    "    \n",
    "    print('After filtering: ' + str(adata_list[i].shape[0]) + \" cells and \" + str(adata_list[i].shape[1]) +' features...')  \n",
    "    print(\" \")\n"
   ]
  },
  {
   "cell_type": "code",
   "execution_count": 162,
   "id": "b3820c4f-e0d8-4ab1-9ae6-80842f3fb601",
   "metadata": {
    "scrolled": true,
    "tags": []
   },
   "outputs": [
    {
     "name": "stderr",
     "output_type": "stream",
     "text": [
      "/home/dwm269/miniconda3/envs/pyRNA6/lib/python3.10/site-packages/anndata/_core/anndata.py:1235: ImplicitModificationWarning: Trying to modify attribute `.obs` of view, initializing view as actual.\n",
      "  df[key] = c\n",
      "/home/dwm269/miniconda3/envs/pyRNA6/lib/python3.10/site-packages/anndata/_core/anndata.py:1235: ImplicitModificationWarning: Trying to modify attribute `.var` of view, initializing view as actual.\n",
      "  df[key] = c\n",
      "/home/dwm269/miniconda3/envs/pyRNA6/lib/python3.10/site-packages/anndata/_core/anndata.py:1235: ImplicitModificationWarning: Trying to modify attribute `.obs` of view, initializing view as actual.\n",
      "  df[key] = c\n",
      "/home/dwm269/miniconda3/envs/pyRNA6/lib/python3.10/site-packages/anndata/_core/anndata.py:1235: ImplicitModificationWarning: Trying to modify attribute `.var` of view, initializing view as actual.\n",
      "  df[key] = c\n",
      "/home/dwm269/miniconda3/envs/pyRNA6/lib/python3.10/site-packages/anndata/_core/anndata.py:1235: ImplicitModificationWarning: Trying to modify attribute `.obs` of view, initializing view as actual.\n",
      "  df[key] = c\n",
      "/home/dwm269/miniconda3/envs/pyRNA6/lib/python3.10/site-packages/anndata/_core/anndata.py:1235: ImplicitModificationWarning: Trying to modify attribute `.obs` of view, initializing view as actual.\n",
      "  df[key] = c\n",
      "/home/dwm269/miniconda3/envs/pyRNA6/lib/python3.10/site-packages/anndata/_core/anndata.py:1235: ImplicitModificationWarning: Trying to modify attribute `.obs` of view, initializing view as actual.\n",
      "  df[key] = c\n",
      "/home/dwm269/miniconda3/envs/pyRNA6/lib/python3.10/site-packages/anndata/_core/anndata.py:1235: ImplicitModificationWarning: Trying to modify attribute `.obs` of view, initializing view as actual.\n",
      "  df[key] = c\n",
      "/home/dwm269/miniconda3/envs/pyRNA6/lib/python3.10/site-packages/anndata/_core/anndata.py:1235: ImplicitModificationWarning: Trying to modify attribute `.obs` of view, initializing view as actual.\n",
      "  df[key] = c\n",
      "/home/dwm269/miniconda3/envs/pyRNA6/lib/python3.10/site-packages/scanpy/plotting/_utils.py:625: RuntimeWarning: More than 20 figures have been opened. Figures created through the pyplot interface (`matplotlib.pyplot.figure`) are retained until explicitly closed and may consume too much memory. (To control this warning, see the rcParam `figure.max_open_warning`). Consider using `matplotlib.pyplot.close()`.\n",
      "  pl.figure(\n",
      "/home/dwm269/miniconda3/envs/pyRNA6/lib/python3.10/site-packages/anndata/_core/anndata.py:1235: ImplicitModificationWarning: Trying to modify attribute `.obs` of view, initializing view as actual.\n",
      "  df[key] = c\n",
      "/home/dwm269/miniconda3/envs/pyRNA6/lib/python3.10/site-packages/anndata/_core/anndata.py:1235: ImplicitModificationWarning: Trying to modify attribute `.obs` of view, initializing view as actual.\n",
      "  df[key] = c\n",
      "/home/dwm269/miniconda3/envs/pyRNA6/lib/python3.10/site-packages/anndata/_core/anndata.py:1235: ImplicitModificationWarning: Trying to modify attribute `.obs` of view, initializing view as actual.\n",
      "  df[key] = c\n",
      "/home/dwm269/miniconda3/envs/pyRNA6/lib/python3.10/site-packages/anndata/_core/anndata.py:1235: ImplicitModificationWarning: Trying to modify attribute `.obs` of view, initializing view as actual.\n",
      "  df[key] = c\n"
     ]
    }
   ],
   "source": [
    "for i in range(0,meta.shape[0]):\n",
    "    sc.pl.violin(\n",
    "        adata_list[i], \n",
    "        keys='total_counts'#['n_genes','n_counts']\n",
    "    )"
   ]
  },
  {
   "cell_type": "markdown",
   "id": "3fe03b45-d92b-4fc5-b4e6-1a92cd328157",
   "metadata": {
    "jp-MarkdownHeadingCollapsed": true,
    "tags": []
   },
   "source": [
    "## Doublet removal via Scrublet"
   ]
  },
  {
   "cell_type": "markdown",
   "id": "fe6db80d-104e-4ba3-884e-9edf3f21af59",
   "metadata": {},
   "source": [
    "Estimate doublet scores w/ Scrublet"
   ]
  },
  {
   "cell_type": "code",
   "execution_count": 164,
   "id": "e2b010b0",
   "metadata": {
    "scrolled": true,
    "tags": []
   },
   "outputs": [
    {
     "name": "stdout",
     "output_type": "stream",
     "text": [
      "Running Scrublet\n",
      "normalizing counts per cell\n",
      "    finished (0:00:00)\n",
      "extracting highly variable genes\n",
      "    finished (0:00:04)\n",
      "--> added\n",
      "    'highly_variable', boolean vector (adata.var)\n",
      "    'means', float vector (adata.var)\n",
      "    'dispersions', float vector (adata.var)\n",
      "    'dispersions_norm', float vector (adata.var)\n"
     ]
    },
    {
     "name": "stderr",
     "output_type": "stream",
     "text": [
      "/home/dwm269/miniconda3/envs/pyRNA6/lib/python3.10/site-packages/scanpy/preprocessing/_normalization.py:170: UserWarning: Received a view of an AnnData. Making a copy.\n",
      "  view_to_actual(adata)\n"
     ]
    },
    {
     "name": "stdout",
     "output_type": "stream",
     "text": [
      "normalizing counts per cell\n",
      "    finished (0:00:00)\n",
      "normalizing counts per cell\n",
      "    finished (0:00:00)\n",
      "Embedding transcriptomes using PCA...\n",
      "Automatically set threshold at doublet score = 0.63\n",
      "Detected doublet rate = 0.0%\n",
      "Estimated detectable doublet fraction = 0.3%\n",
      "Overall doublet rate:\n",
      "\tExpected   = 5.0%\n",
      "\tEstimated  = 3.3%\n",
      "    Scrublet finished (0:01:03)\n",
      "Running Scrublet\n",
      "normalizing counts per cell\n",
      "    finished (0:00:00)\n",
      "extracting highly variable genes\n",
      "    finished (0:00:08)\n",
      "--> added\n",
      "    'highly_variable', boolean vector (adata.var)\n",
      "    'means', float vector (adata.var)\n",
      "    'dispersions', float vector (adata.var)\n",
      "    'dispersions_norm', float vector (adata.var)\n"
     ]
    },
    {
     "name": "stderr",
     "output_type": "stream",
     "text": [
      "/home/dwm269/miniconda3/envs/pyRNA6/lib/python3.10/site-packages/scanpy/preprocessing/_normalization.py:170: UserWarning: Received a view of an AnnData. Making a copy.\n",
      "  view_to_actual(adata)\n"
     ]
    },
    {
     "name": "stdout",
     "output_type": "stream",
     "text": [
      "normalizing counts per cell\n",
      "    finished (0:00:00)\n",
      "normalizing counts per cell\n",
      "    finished (0:00:00)\n",
      "Embedding transcriptomes using PCA...\n",
      "Automatically set threshold at doublet score = 0.64\n",
      "Detected doublet rate = 0.0%\n",
      "Estimated detectable doublet fraction = 0.3%\n",
      "Overall doublet rate:\n",
      "\tExpected   = 5.0%\n",
      "\tEstimated  = 3.2%\n",
      "    Scrublet finished (0:01:05)\n",
      "Running Scrublet\n",
      "normalizing counts per cell\n",
      "    finished (0:00:00)\n",
      "extracting highly variable genes\n",
      "    finished (0:00:03)\n",
      "--> added\n",
      "    'highly_variable', boolean vector (adata.var)\n",
      "    'means', float vector (adata.var)\n",
      "    'dispersions', float vector (adata.var)\n",
      "    'dispersions_norm', float vector (adata.var)\n"
     ]
    },
    {
     "name": "stderr",
     "output_type": "stream",
     "text": [
      "/home/dwm269/miniconda3/envs/pyRNA6/lib/python3.10/site-packages/scanpy/preprocessing/_normalization.py:170: UserWarning: Received a view of an AnnData. Making a copy.\n",
      "  view_to_actual(adata)\n"
     ]
    },
    {
     "name": "stdout",
     "output_type": "stream",
     "text": [
      "normalizing counts per cell\n",
      "    finished (0:00:00)\n",
      "normalizing counts per cell\n",
      "    finished (0:00:00)\n",
      "Embedding transcriptomes using PCA...\n",
      "Automatically set threshold at doublet score = 0.59\n",
      "Detected doublet rate = 0.0%\n",
      "Estimated detectable doublet fraction = 1.4%\n",
      "Overall doublet rate:\n",
      "\tExpected   = 5.0%\n",
      "\tEstimated  = 2.8%\n",
      "    Scrublet finished (0:00:34)\n",
      "Running Scrublet\n",
      "normalizing counts per cell\n",
      "    finished (0:00:00)\n",
      "extracting highly variable genes\n",
      "    finished (0:00:04)\n",
      "--> added\n",
      "    'highly_variable', boolean vector (adata.var)\n",
      "    'means', float vector (adata.var)\n",
      "    'dispersions', float vector (adata.var)\n",
      "    'dispersions_norm', float vector (adata.var)\n"
     ]
    },
    {
     "name": "stderr",
     "output_type": "stream",
     "text": [
      "/home/dwm269/miniconda3/envs/pyRNA6/lib/python3.10/site-packages/scanpy/preprocessing/_normalization.py:170: UserWarning: Received a view of an AnnData. Making a copy.\n",
      "  view_to_actual(adata)\n"
     ]
    },
    {
     "name": "stdout",
     "output_type": "stream",
     "text": [
      "normalizing counts per cell\n",
      "    finished (0:00:00)\n",
      "normalizing counts per cell\n",
      "    finished (0:00:00)\n",
      "Embedding transcriptomes using PCA...\n",
      "Automatically set threshold at doublet score = 0.52\n",
      "Detected doublet rate = 0.0%\n",
      "Estimated detectable doublet fraction = 0.1%\n",
      "Overall doublet rate:\n",
      "\tExpected   = 5.0%\n",
      "\tEstimated  = 0.0%\n",
      "    Scrublet finished (0:00:34)\n",
      "Running Scrublet\n",
      "normalizing counts per cell\n",
      "    finished (0:00:00)\n",
      "extracting highly variable genes\n",
      "    finished (0:00:05)\n",
      "--> added\n",
      "    'highly_variable', boolean vector (adata.var)\n",
      "    'means', float vector (adata.var)\n",
      "    'dispersions', float vector (adata.var)\n",
      "    'dispersions_norm', float vector (adata.var)\n"
     ]
    },
    {
     "name": "stderr",
     "output_type": "stream",
     "text": [
      "/home/dwm269/miniconda3/envs/pyRNA6/lib/python3.10/site-packages/scanpy/preprocessing/_normalization.py:170: UserWarning: Received a view of an AnnData. Making a copy.\n",
      "  view_to_actual(adata)\n"
     ]
    },
    {
     "name": "stdout",
     "output_type": "stream",
     "text": [
      "normalizing counts per cell\n",
      "    finished (0:00:00)\n",
      "normalizing counts per cell\n",
      "    finished (0:00:00)\n",
      "Embedding transcriptomes using PCA...\n",
      "Automatically set threshold at doublet score = 0.63\n",
      "Detected doublet rate = 0.0%\n",
      "Estimated detectable doublet fraction = 0.3%\n",
      "Overall doublet rate:\n",
      "\tExpected   = 5.0%\n",
      "\tEstimated  = 0.0%\n",
      "    Scrublet finished (0:00:44)\n",
      "Running Scrublet\n",
      "normalizing counts per cell\n",
      "    finished (0:00:00)\n",
      "extracting highly variable genes\n",
      "    finished (0:00:01)\n",
      "--> added\n",
      "    'highly_variable', boolean vector (adata.var)\n",
      "    'means', float vector (adata.var)\n",
      "    'dispersions', float vector (adata.var)\n",
      "    'dispersions_norm', float vector (adata.var)\n"
     ]
    },
    {
     "name": "stderr",
     "output_type": "stream",
     "text": [
      "/home/dwm269/miniconda3/envs/pyRNA6/lib/python3.10/site-packages/scanpy/preprocessing/_normalization.py:170: UserWarning: Received a view of an AnnData. Making a copy.\n",
      "  view_to_actual(adata)\n"
     ]
    },
    {
     "name": "stdout",
     "output_type": "stream",
     "text": [
      "normalizing counts per cell\n",
      "    finished (0:00:00)\n",
      "normalizing counts per cell\n",
      "    finished (0:00:00)\n",
      "Embedding transcriptomes using PCA...\n",
      "Automatically set threshold at doublet score = 0.59\n",
      "Detected doublet rate = 0.0%\n",
      "Estimated detectable doublet fraction = 0.4%\n",
      "Overall doublet rate:\n",
      "\tExpected   = 5.0%\n",
      "\tEstimated  = 0.0%\n",
      "    Scrublet finished (0:00:25)\n",
      "Running Scrublet\n",
      "normalizing counts per cell\n",
      "    finished (0:00:00)\n",
      "extracting highly variable genes\n",
      "    finished (0:00:03)\n",
      "--> added\n",
      "    'highly_variable', boolean vector (adata.var)\n",
      "    'means', float vector (adata.var)\n",
      "    'dispersions', float vector (adata.var)\n",
      "    'dispersions_norm', float vector (adata.var)\n"
     ]
    },
    {
     "name": "stderr",
     "output_type": "stream",
     "text": [
      "/home/dwm269/miniconda3/envs/pyRNA6/lib/python3.10/site-packages/scanpy/preprocessing/_normalization.py:170: UserWarning: Received a view of an AnnData. Making a copy.\n",
      "  view_to_actual(adata)\n"
     ]
    },
    {
     "name": "stdout",
     "output_type": "stream",
     "text": [
      "normalizing counts per cell\n",
      "    finished (0:00:00)\n",
      "normalizing counts per cell\n",
      "    finished (0:00:00)\n",
      "Embedding transcriptomes using PCA...\n",
      "Automatically set threshold at doublet score = 0.19\n",
      "Detected doublet rate = 5.2%\n",
      "Estimated detectable doublet fraction = 45.9%\n",
      "Overall doublet rate:\n",
      "\tExpected   = 5.0%\n",
      "\tEstimated  = 11.3%\n",
      "    Scrublet finished (0:00:35)\n",
      "Running Scrublet\n",
      "normalizing counts per cell\n",
      "    finished (0:00:00)\n",
      "extracting highly variable genes\n",
      "    finished (0:00:02)\n",
      "--> added\n",
      "    'highly_variable', boolean vector (adata.var)\n",
      "    'means', float vector (adata.var)\n",
      "    'dispersions', float vector (adata.var)\n",
      "    'dispersions_norm', float vector (adata.var)\n"
     ]
    },
    {
     "name": "stderr",
     "output_type": "stream",
     "text": [
      "/home/dwm269/miniconda3/envs/pyRNA6/lib/python3.10/site-packages/scanpy/preprocessing/_normalization.py:170: UserWarning: Received a view of an AnnData. Making a copy.\n",
      "  view_to_actual(adata)\n"
     ]
    },
    {
     "name": "stdout",
     "output_type": "stream",
     "text": [
      "normalizing counts per cell\n",
      "    finished (0:00:00)\n",
      "normalizing counts per cell\n",
      "    finished (0:00:00)\n",
      "Embedding transcriptomes using PCA...\n",
      "Automatically set threshold at doublet score = 0.25\n",
      "Detected doublet rate = 2.2%\n",
      "Estimated detectable doublet fraction = 43.5%\n",
      "Overall doublet rate:\n",
      "\tExpected   = 5.0%\n",
      "\tEstimated  = 5.1%\n",
      "    Scrublet finished (0:00:25)\n",
      "Running Scrublet\n",
      "normalizing counts per cell\n",
      "    finished (0:00:00)\n",
      "extracting highly variable genes\n",
      "    finished (0:00:02)\n",
      "--> added\n",
      "    'highly_variable', boolean vector (adata.var)\n",
      "    'means', float vector (adata.var)\n",
      "    'dispersions', float vector (adata.var)\n",
      "    'dispersions_norm', float vector (adata.var)\n"
     ]
    },
    {
     "name": "stderr",
     "output_type": "stream",
     "text": [
      "/home/dwm269/miniconda3/envs/pyRNA6/lib/python3.10/site-packages/scanpy/preprocessing/_normalization.py:170: UserWarning: Received a view of an AnnData. Making a copy.\n",
      "  view_to_actual(adata)\n"
     ]
    },
    {
     "name": "stdout",
     "output_type": "stream",
     "text": [
      "normalizing counts per cell\n",
      "    finished (0:00:00)\n",
      "normalizing counts per cell\n",
      "    finished (0:00:00)\n",
      "Embedding transcriptomes using PCA...\n",
      "Automatically set threshold at doublet score = 0.56\n",
      "Detected doublet rate = 0.1%\n",
      "Estimated detectable doublet fraction = 0.6%\n",
      "Overall doublet rate:\n",
      "\tExpected   = 5.0%\n",
      "\tEstimated  = 12.5%\n",
      "    Scrublet finished (0:00:18)\n",
      "Running Scrublet\n",
      "normalizing counts per cell\n",
      "    finished (0:00:00)\n",
      "extracting highly variable genes\n",
      "    finished (0:00:02)\n",
      "--> added\n",
      "    'highly_variable', boolean vector (adata.var)\n",
      "    'means', float vector (adata.var)\n",
      "    'dispersions', float vector (adata.var)\n",
      "    'dispersions_norm', float vector (adata.var)\n"
     ]
    },
    {
     "name": "stderr",
     "output_type": "stream",
     "text": [
      "/home/dwm269/miniconda3/envs/pyRNA6/lib/python3.10/site-packages/scanpy/preprocessing/_normalization.py:170: UserWarning: Received a view of an AnnData. Making a copy.\n",
      "  view_to_actual(adata)\n"
     ]
    },
    {
     "name": "stdout",
     "output_type": "stream",
     "text": [
      "normalizing counts per cell\n",
      "    finished (0:00:00)\n",
      "normalizing counts per cell\n",
      "    finished (0:00:00)\n",
      "Embedding transcriptomes using PCA...\n",
      "Automatically set threshold at doublet score = 0.16\n",
      "Detected doublet rate = 6.7%\n",
      "Estimated detectable doublet fraction = 56.1%\n",
      "Overall doublet rate:\n",
      "\tExpected   = 5.0%\n",
      "\tEstimated  = 11.9%\n",
      "    Scrublet finished (0:00:51)\n",
      "Running Scrublet\n",
      "normalizing counts per cell\n",
      "    finished (0:00:00)\n",
      "extracting highly variable genes\n",
      "    finished (0:00:06)\n",
      "--> added\n",
      "    'highly_variable', boolean vector (adata.var)\n",
      "    'means', float vector (adata.var)\n",
      "    'dispersions', float vector (adata.var)\n",
      "    'dispersions_norm', float vector (adata.var)\n"
     ]
    },
    {
     "name": "stderr",
     "output_type": "stream",
     "text": [
      "/home/dwm269/miniconda3/envs/pyRNA6/lib/python3.10/site-packages/scanpy/preprocessing/_normalization.py:170: UserWarning: Received a view of an AnnData. Making a copy.\n",
      "  view_to_actual(adata)\n"
     ]
    },
    {
     "name": "stdout",
     "output_type": "stream",
     "text": [
      "normalizing counts per cell\n",
      "    finished (0:00:00)\n",
      "normalizing counts per cell\n",
      "    finished (0:00:00)\n",
      "Embedding transcriptomes using PCA...\n",
      "Automatically set threshold at doublet score = 0.20\n",
      "Detected doublet rate = 4.5%\n",
      "Estimated detectable doublet fraction = 47.0%\n",
      "Overall doublet rate:\n",
      "\tExpected   = 5.0%\n",
      "\tEstimated  = 9.6%\n",
      "    Scrublet finished (0:00:35)\n"
     ]
    }
   ],
   "source": [
    "sc.settings.set_figure_params(\n",
    "    fontsize=8\n",
    ")\n",
    "\n",
    "for i in range(0,meta.shape[0]):\n",
    "    sce.pp.scrublet(\n",
    "        adata_list[i]\n",
    "    )"
   ]
  },
  {
   "cell_type": "code",
   "execution_count": 165,
   "id": "8a4e0a7b-1142-4b0d-8574-79ab070707c4",
   "metadata": {},
   "outputs": [],
   "source": [
    "for i in range(0,meta.shape[0]):\n",
    "    sce.pl.scrublet_score_distribution(\n",
    "        adata_list[i],\n",
    "        figsize =[6,2.25]\n",
    "    )"
   ]
  },
  {
   "cell_type": "code",
   "execution_count": 166,
   "id": "12770551",
   "metadata": {
    "scrolled": true
   },
   "outputs": [
    {
     "name": "stdout",
     "output_type": "stream",
     "text": [
      "Final cell & feature counts:\n",
      "\n",
      "D0_600um: 9818 cells and 29284 features...\n",
      "\n",
      "D1_600um: 10612 cells and 29432 features...\n",
      "\n",
      "D4_200um: 7354 cells and 31195 features...\n",
      "\n",
      "D4_600um: 8565 cells and 29680 features...\n",
      "\n",
      "D4_1000um: 9966 cells and 30786 features...\n",
      "\n",
      "D6_600um: 7160 cells and 30788 features...\n",
      "\n",
      "D8_600um: 9686 cells and 31645 features...\n",
      "\n",
      "D12_600um: 6036 cells and 29593 features...\n",
      "\n",
      "D21_200um_B: 5247 cells and 27385 features...\n",
      "\n",
      "D21_600um: 12938 cells and 30865 features...\n",
      "\n",
      "D21_1000um_B: 9019 cells and 28159 features...\n",
      "\n"
     ]
    }
   ],
   "source": [
    "## Doublet score cutoff values for each sample\n",
    "cutoff_threshold = [\n",
    "    0.4, #D0_600um\t\n",
    "    0.4, #D1_600um\t\n",
    "    0.2, #D4_200um\n",
    "    0.2, #D4_600um\t\n",
    "    0.2, #D4_1000um\n",
    "    0.2, #D6_600um\t\n",
    "    0.2, #D8_600um\n",
    "    0.2, #D12_600um\n",
    "    0.2, #D20_600um\n",
    "    0.2, # D21_200um_B\n",
    "    0.2, #D21_600um\n",
    "    0.2 #D21_1000um_B\n",
    "]\n",
    "\n",
    "## Remove doublets\n",
    "print(\"Final cell & feature counts:\\n\")\n",
    "for i in range(0,meta.shape[0]):    \n",
    "    adata_list[i] = adata_list[i][adata_list[i].obs[\"doublet_score\"] < cutoff_threshold[i],]\n",
    "    print(meta[\"sample\"][i] + ': ' + str(adata_list[i].shape[0]) + \" cells and \" + str(adata_list[i].shape[1]) +' features...')  \n",
    "    print(\"\")"
   ]
  },
  {
   "cell_type": "markdown",
   "id": "4508fcab",
   "metadata": {
    "tags": []
   },
   "source": [
    "## Merged individual samples & preprocess merged object"
   ]
  },
  {
   "cell_type": "markdown",
   "id": "803ee5d5-72ce-4161-9e89-3d9b2ba1a149",
   "metadata": {},
   "source": [
    "Merge individual samples for integrated analysis"
   ]
  },
  {
   "cell_type": "code",
   "execution_count": 167,
   "id": "38f8b5e6",
   "metadata": {},
   "outputs": [
    {
     "name": "stderr",
     "output_type": "stream",
     "text": [
      "/home/dwm269/miniconda3/envs/pyRNA6/lib/python3.10/site-packages/anndata/_core/anndata.py:1828: UserWarning: Observation names are not unique. To make them unique, call `.obs_names_make_unique`.\n",
      "  utils.warn_names_duplicates(\"obs\")\n",
      "/home/dwm269/miniconda3/envs/pyRNA6/lib/python3.10/site-packages/anndata/_core/anndata.py:1785: FutureWarning: X.dtype being converted to np.float32 from float64. In the next version of anndata (0.9) conversion will not be automatic. Pass dtype explicitly to avoid this warning. Pass `AnnData(X, dtype=X.dtype, ...)` to get the future behavour.\n",
      "  [AnnData(sparse.csr_matrix(a.shape), obs=a.obs) for a in all_adatas],\n",
      "/home/dwm269/miniconda3/envs/pyRNA6/lib/python3.10/site-packages/anndata/_core/anndata.py:1828: UserWarning: Observation names are not unique. To make them unique, call `.obs_names_make_unique`.\n",
      "  utils.warn_names_duplicates(\"obs\")\n"
     ]
    },
    {
     "name": "stdout",
     "output_type": "stream",
     "text": [
      "(96401, 24072)\n"
     ]
    }
   ],
   "source": [
    "adata = adata_list[0].concatenate(\n",
    "    adata_list[1:],\n",
    "    index_unique=None\n",
    ")\n",
    "\n",
    "print(adata.shape)"
   ]
  },
  {
   "cell_type": "code",
   "execution_count": 168,
   "id": "3dd8b6f5-3aeb-417d-b725-09627b3ccdd0",
   "metadata": {},
   "outputs": [],
   "source": [
    "adata.obs_names_make_unique()"
   ]
  },
  {
   "cell_type": "code",
   "execution_count": 169,
   "id": "8fc1e170-241a-4195-88c4-f008ff970b01",
   "metadata": {},
   "outputs": [
    {
     "name": "stdout",
     "output_type": "stream",
     "text": [
      "normalizing counts per cell\n",
      "    finished (0:00:03)\n"
     ]
    }
   ],
   "source": [
    "sc.pp.normalize_total(\n",
    "    adata, \n",
    "    target_sum=1e4\n",
    ")\n",
    "\n",
    "sc.pp.log1p(\n",
    "    adata\n",
    ")"
   ]
  },
  {
   "cell_type": "code",
   "execution_count": 170,
   "id": "145fcf5c-5845-4817-b9cf-6c5bb0351806",
   "metadata": {},
   "outputs": [],
   "source": [
    "adata.layers['data'] = adata.X"
   ]
  },
  {
   "cell_type": "code",
   "execution_count": 171,
   "id": "e8f84b7a-a6c5-4538-8233-ab3c81f17705",
   "metadata": {},
   "outputs": [
    {
     "name": "stdout",
     "output_type": "stream",
     "text": [
      "extracting highly variable genes\n",
      "    finished (0:00:22)\n",
      "--> added\n",
      "    'highly_variable', boolean vector (adata.var)\n",
      "    'means', float vector (adata.var)\n",
      "    'dispersions', float vector (adata.var)\n",
      "    'dispersions_norm', float vector (adata.var)\n"
     ]
    }
   ],
   "source": [
    "sc.pp.highly_variable_genes(\n",
    "    adata,\n",
    "#     min_mean=0.0125, \n",
    "#     max_mean=3,\n",
    "#     min_disp=0.5,\n",
    "    subset=False\n",
    ")"
   ]
  },
  {
   "cell_type": "code",
   "execution_count": 172,
   "id": "c465425d-188b-4fd6-ac82-2d75e9cfd93d",
   "metadata": {},
   "outputs": [],
   "source": [
    "sc.settings.set_figure_params(\n",
    "    fontsize=8,\n",
    "    figsize=[4,4]\n",
    ")\n",
    "sc.pl.highly_variable_genes(adata)"
   ]
  },
  {
   "cell_type": "code",
   "execution_count": 173,
   "id": "d8b1e25e-7989-43ce-bf8d-4ebf47107841",
   "metadata": {},
   "outputs": [
    {
     "name": "stdout",
     "output_type": "stream",
     "text": [
      "... as `zero_center=True`, sparse input is densified and may lead to large memory consumption\n",
      "computing PCA\n",
      "    on highly variable genes\n",
      "    with n_comps=50\n",
      "    finished (0:01:27)\n"
     ]
    }
   ],
   "source": [
    "sc.pp.scale(\n",
    "    adata\n",
    "#     max_value=10\n",
    ")\n",
    "\n",
    "sc.tl.pca(\n",
    "    adata,\n",
    "    svd_solver='arpack',\n",
    "    n_comps=50\n",
    ")\n",
    "\n",
    "adata.obsm['pca'] = adata.obsm['X_pca'] # save PCA w/ out cell cycle regression"
   ]
  },
  {
   "cell_type": "code",
   "execution_count": 174,
   "id": "77e79323-fdca-46a1-a11f-d8fa63d17b40",
   "metadata": {},
   "outputs": [],
   "source": [
    "sc.settings.set_figure_params(\n",
    "    fontsize=18,\n",
    "    figsize=[8,7]\n",
    ")\n",
    "\n",
    "sc.pl.violin(\n",
    "    adata,\n",
    "    size=0.5,\n",
    "    rotation=90,\n",
    "    keys=['pct_counts_mito'],\n",
    "    groupby='sample'\n",
    ")"
   ]
  },
  {
   "cell_type": "code",
   "execution_count": 175,
   "id": "1f91271c-30ff-453e-9b28-b4e272ca80ab",
   "metadata": {},
   "outputs": [],
   "source": [
    "sc.pl.scatter(\n",
    "    adata,\n",
    "    size=8,\n",
    "#     rotation=90,\n",
    "    x='total_counts',\n",
    "    y='n_genes',\n",
    "    color='sample'\n",
    ")"
   ]
  },
  {
   "cell_type": "markdown",
   "id": "e11c2cff-81bf-4e2b-a667-1f908347c514",
   "metadata": {
    "tags": []
   },
   "source": [
    "## Cell cycle regression & final preprocessing"
   ]
  },
  {
   "cell_type": "markdown",
   "id": "b899c97c-35a6-41f4-b6d5-c6be3c2ca481",
   "metadata": {},
   "source": [
    "Cell cycle scoring"
   ]
  },
  {
   "cell_type": "code",
   "execution_count": 176,
   "id": "ac95da1c",
   "metadata": {},
   "outputs": [
    {
     "name": "stdout",
     "output_type": "stream",
     "text": [
      "calculating cell cycle phase\n",
      "computing score 'S_score'\n",
      "WARNING: genes are not in var_names and ignored: ['FEN1', 'UBR7', 'CASP8AP2']\n"
     ]
    },
    {
     "name": "stderr",
     "output_type": "stream",
     "text": [
      "/home/dwm269/miniconda3/envs/pyRNA6/lib/python3.10/site-packages/scanpy/tools/_score_genes.py:151: FutureWarning: Passing a set as an indexer is deprecated and will raise in a future version. Use a list instead.\n",
      "  for cut in np.unique(obs_cut.loc[gene_list]):\n"
     ]
    },
    {
     "name": "stdout",
     "output_type": "stream",
     "text": [
      "    finished: added\n",
      "    'S_score', score of gene set (adata.obs).\n",
      "    428 total control genes are used. (0:02:12)\n",
      "computing score 'G2M_score'\n",
      "WARNING: genes are not in var_names and ignored: ['NUSAP1']\n"
     ]
    },
    {
     "name": "stderr",
     "output_type": "stream",
     "text": [
      "/home/dwm269/miniconda3/envs/pyRNA6/lib/python3.10/site-packages/scanpy/tools/_score_genes.py:151: FutureWarning: Passing a set as an indexer is deprecated and will raise in a future version. Use a list instead.\n",
      "  for cut in np.unique(obs_cut.loc[gene_list]):\n"
     ]
    },
    {
     "name": "stdout",
     "output_type": "stream",
     "text": [
      "    finished: added\n",
      "    'G2M_score', score of gene set (adata.obs).\n",
      "    557 total control genes are used. (0:01:41)\n",
      "-->     'phase', cell cycle phase (adata.obs)\n"
     ]
    }
   ],
   "source": [
    "# load in cell cycle genes lists\n",
    "s_genes = list(pd.read_csv(\"resources/seurat_s_genes_2019.csv\")['x'])\n",
    "g2m_genes = list(pd.read_csv(\"resources/seurat_g2m_genes_2019.csv\")['x'])\n",
    "\n",
    "# score and plot\n",
    "sc.tl.score_genes_cell_cycle(\n",
    "    adata, \n",
    "    s_genes=s_genes, \n",
    "    g2m_genes=g2m_genes, \n",
    "    use_raw=False\n",
    ")"
   ]
  },
  {
   "cell_type": "code",
   "execution_count": 177,
   "id": "68bac04a-bca4-4506-bd72-71b07ce020ad",
   "metadata": {},
   "outputs": [
    {
     "name": "stdout",
     "output_type": "stream",
     "text": [
      "regressing out ['S_score', 'G2M_score']\n",
      "    finished (1:28:45)\n"
     ]
    }
   ],
   "source": [
    "sc.pp.regress_out(\n",
    "    adata, \n",
    "    ['S_score', 'G2M_score']\n",
    ")"
   ]
  },
  {
   "cell_type": "code",
   "execution_count": 178,
   "id": "4396df0a-d1fc-4bd9-9a79-dec26cdca3b0",
   "metadata": {},
   "outputs": [
    {
     "name": "stdout",
     "output_type": "stream",
     "text": [
      "computing PCA\n",
      "    on highly variable genes\n",
      "    with n_comps=50\n",
      "    finished (0:01:13)\n"
     ]
    }
   ],
   "source": [
    "sc.pp.scale(\n",
    "    adata\n",
    "#     max_value=10\n",
    ")\n",
    "\n",
    "sc.tl.pca(\n",
    "    adata, \n",
    "    svd_solver='arpack',\n",
    "    n_comps=50\n",
    ")\n",
    "\n",
    "adata.obsm['pca_cc'] = adata.obsm['X_pca']"
   ]
  },
  {
   "cell_type": "code",
   "execution_count": 179,
   "id": "f5472920",
   "metadata": {},
   "outputs": [],
   "source": [
    "sc.pl.violin(\n",
    "    adata, \n",
    "    ['n_genes', 'total_counts', 'pct_counts_mito'], #'n_genes_by_counts',\n",
    "    jitter=0.4, \n",
    "    multi_panel=True\n",
    ")"
   ]
  },
  {
   "cell_type": "code",
   "execution_count": 180,
   "id": "f20f6923",
   "metadata": {
    "scrolled": true
   },
   "outputs": [],
   "source": [
    "sc.set_figure_params(\n",
    "    figsize=(4,4),\n",
    "    dpi=200,\n",
    "    fontsize=10\n",
    ")\n",
    "\n",
    "sc.pl.scatter(adata, x='total_counts', y='pct_counts_mito')\n",
    "sc.pl.scatter(adata, x='total_counts', y='n_genes_by_counts')\n",
    "sc.pl.highly_variable_genes(adata)"
   ]
  },
  {
   "cell_type": "markdown",
   "id": "93bfc158-c097-4dac-9d1e-4c96d351a602",
   "metadata": {},
   "source": [
    "Finish preprocessing w/ PCA"
   ]
  },
  {
   "cell_type": "markdown",
   "id": "2ab87f6a-d74b-489b-850d-fddc7af473a9",
   "metadata": {
    "tags": []
   },
   "source": [
    "## Harmony integration"
   ]
  },
  {
   "cell_type": "markdown",
   "id": "a1108d5d-2eed-4e00-9f60-3b91b6713eb6",
   "metadata": {},
   "source": [
    "- `harmony_sp` <- Perform batch correction on both sample ID and cell cycle phase; using PCA which does not include cell-cycle-regressed counts\n",
    "- `harmony_s` <- batch correct just on sample ID, but using cell-cycle-regressed counts"
   ]
  },
  {
   "cell_type": "code",
   "execution_count": 181,
   "id": "8f70fa4a",
   "metadata": {},
   "outputs": [],
   "source": [
    "# subset pca for less noisy Harmony integration? \n",
    "# adata.obsm['pca_sub'] = adata.obsm['pca'][:,1:30]"
   ]
  },
  {
   "cell_type": "code",
   "execution_count": 182,
   "id": "eeb90b8c",
   "metadata": {
    "scrolled": true
   },
   "outputs": [
    {
     "name": "stderr",
     "output_type": "stream",
     "text": [
      "2022-12-13 11:45:28,164 - harmonypy - INFO - Iteration 1 of 10\n",
      "2022-12-13 11:46:44,964 - harmonypy - INFO - Iteration 2 of 10\n",
      "2022-12-13 11:48:09,479 - harmonypy - INFO - Iteration 3 of 10\n",
      "2022-12-13 11:49:33,809 - harmonypy - INFO - Converged after 3 iterations\n"
     ]
    }
   ],
   "source": [
    "sce.pp.harmony_integrate(\n",
    "    adata=adata, \n",
    "    key=[\"sample\",\"phase\"], \n",
    "    basis='pca',\n",
    "    adjusted_basis='harmony_sp'\n",
    ")"
   ]
  },
  {
   "attachments": {},
   "cell_type": "markdown",
   "id": "5a450bdd-826d-4628-a195-b539ea12471b",
   "metadata": {},
   "source": [
    "Re-order Harmony dimensions by decreasing % variance"
   ]
  },
  {
   "cell_type": "code",
   "execution_count": 183,
   "id": "fdc25644-388d-4c83-8d6b-167277ed40fe",
   "metadata": {},
   "outputs": [
    {
     "name": "stdout",
     "output_type": "stream",
     "text": [
      "Reduction variance by dimension:\n",
      "[66.97038, 32.525, 38.14958, 23.312126, 9.015288, 8.621928, 16.705961, 11.50067, 13.608058, 5.350435, 6.508146, 6.1659803, 4.1095824, 3.3540812, 5.6777062, 4.8084044, 5.2410183, 4.0958495, 3.4207733, 3.921077, 3.7897596, 2.9329972, 2.8647203, 2.5667157, 2.4476993, 2.4602854, 2.5557456, 2.6350524, 3.3902571, 2.9314756, 2.3703935, 1.9783283, 2.3929849, 2.4321132, 2.1269596, 2.1551845, 2.1879969, 2.0231771, 2.3120604, 1.7690398, 2.380004, 1.6906623, 2.1003735, 2.076333, 2.0639749, 1.8825839, 1.918827, 1.9286175, 1.9080156, 1.7162254]\n"
     ]
    }
   ],
   "source": [
    "reorder_reduction(\n",
    "    adata,\n",
    "    reduction=\"harmony_sp\",\n",
    "    verbose=True\n",
    ")"
   ]
  },
  {
   "cell_type": "code",
   "execution_count": 184,
   "id": "92430b4c-d711-49d8-a7cd-73880da7658f",
   "metadata": {},
   "outputs": [
    {
     "name": "stderr",
     "output_type": "stream",
     "text": [
      "2022-12-13 11:52:41,583 - harmonypy - INFO - Iteration 1 of 10\n",
      "2022-12-13 11:54:05,985 - harmonypy - INFO - Iteration 2 of 10\n",
      "2022-12-13 11:55:17,787 - harmonypy - INFO - Converged after 2 iterations\n"
     ]
    }
   ],
   "source": [
    "sce.pp.harmony_integrate(\n",
    "    adata=adata, \n",
    "    key=[\"sample\"], \n",
    "    basis=\"pca_cc\",\n",
    "    adjusted_basis=\"harmony_s\"\n",
    ")"
   ]
  },
  {
   "cell_type": "code",
   "execution_count": 185,
   "id": "3b656f8a-da19-4d50-8264-d8b6b347a1b5",
   "metadata": {},
   "outputs": [],
   "source": [
    "reorder_reduction(\n",
    "    adata,\n",
    "    reduction=\"harmony_s\"\n",
    ")"
   ]
  },
  {
   "cell_type": "markdown",
   "id": "45f927b0-5376-429d-8719-fabf8c0c105e",
   "metadata": {},
   "source": [
    "### Clustering"
   ]
  },
  {
   "cell_type": "code",
   "execution_count": 186,
   "id": "2dc71195",
   "metadata": {},
   "outputs": [
    {
     "name": "stdout",
     "output_type": "stream",
     "text": [
      "computing neighbors\n",
      "    finished: added to `.uns['harmony_sp_neighbors']`\n",
      "    `.obsp['harmony_sp_neighbors_distances']`, distances for each pair of neighbors\n",
      "    `.obsp['harmony_sp_neighbors_connectivities']`, weighted adjacency matrix (0:01:01)\n"
     ]
    },
    {
     "data": {
      "text/plain": [
       "213"
      ]
     },
     "execution_count": 186,
     "metadata": {},
     "output_type": "execute_result"
    }
   ],
   "source": [
    "sc.pp.neighbors(\n",
    "    adata,\n",
    "    n_neighbors=50,\n",
    "    n_pcs=npcs(adata,reduction=\"harmony_sp\"),\n",
    "    use_rep=\"harmony_sp\",\n",
    "    key_added=\"harmony_sp_neighbors\"\n",
    ")\n",
    "gc.collect()"
   ]
  },
  {
   "cell_type": "code",
   "execution_count": 187,
   "id": "dc24f346",
   "metadata": {},
   "outputs": [
    {
     "name": "stdout",
     "output_type": "stream",
     "text": [
      "running Leiden clustering\n",
      "    finished: found 15 clusters and added\n",
      "    'leiden_harmony_sp_0.8', the cluster labels (adata.obs, categorical) (0:02:14)\n",
      "running Leiden clustering\n",
      "    finished: found 17 clusters and added\n",
      "    'leiden_harmony_sp_1.0', the cluster labels (adata.obs, categorical) (0:03:30)\n",
      "running Leiden clustering\n",
      "    finished: found 22 clusters and added\n",
      "    'leiden_harmony_sp_1.2', the cluster labels (adata.obs, categorical) (0:03:07)\n"
     ]
    }
   ],
   "source": [
    "for res in [0.8, 1.0, 1.2]:\n",
    "    sc.tl.leiden(\n",
    "        adata,\n",
    "        resolution=res, \n",
    "        neighbors_key=\"harmony_sp_neighbors\",\n",
    "        key_added=f\"leiden_harmony_sp_{res}\"\n",
    "    )\n",
    "    gc.collect()"
   ]
  },
  {
   "cell_type": "markdown",
   "id": "0aa68d7f-80ae-41c3-ba5a-d343f4ff53e2",
   "metadata": {},
   "source": [
    "Repeat clustering on second harmony embedding"
   ]
  },
  {
   "cell_type": "code",
   "execution_count": 188,
   "id": "84eed3a0-0fd1-4644-90a9-c42286e2a217",
   "metadata": {},
   "outputs": [
    {
     "name": "stdout",
     "output_type": "stream",
     "text": [
      "computing neighbors\n",
      "    finished: added to `.uns['harmony_s_neighbors']`\n",
      "    `.obsp['harmony_s_neighbors_distances']`, distances for each pair of neighbors\n",
      "    `.obsp['harmony_s_neighbors_connectivities']`, weighted adjacency matrix (0:00:58)\n"
     ]
    },
    {
     "data": {
      "text/plain": [
       "52"
      ]
     },
     "execution_count": 188,
     "metadata": {},
     "output_type": "execute_result"
    }
   ],
   "source": [
    "sc.pp.neighbors(\n",
    "    adata,\n",
    "    n_neighbors=50,\n",
    "    n_pcs=npcs(adata,reduction=\"harmony_s\"),\n",
    "    use_rep=\"harmony_s\",\n",
    "    key_added=\"harmony_s_neighbors\"\n",
    ")\n",
    "gc.collect()"
   ]
  },
  {
   "cell_type": "code",
   "execution_count": 189,
   "id": "9c6ea293-61c0-48f3-8e92-439c8a6f940c",
   "metadata": {},
   "outputs": [
    {
     "name": "stdout",
     "output_type": "stream",
     "text": [
      "running Leiden clustering\n",
      "    finished: found 15 clusters and added\n",
      "    'leiden_harmony_s_0.8', the cluster labels (adata.obs, categorical) (0:02:55)\n",
      "running Leiden clustering\n",
      "    finished: found 19 clusters and added\n",
      "    'leiden_harmony_s_1.0', the cluster labels (adata.obs, categorical) (0:02:15)\n",
      "running Leiden clustering\n",
      "    finished: found 20 clusters and added\n",
      "    'leiden_harmony_s_1.2', the cluster labels (adata.obs, categorical) (0:02:34)\n"
     ]
    }
   ],
   "source": [
    "for res in [0.8, 1.0, 1.2]:\n",
    "    sc.tl.leiden(\n",
    "        adata,\n",
    "        resolution=res, \n",
    "        neighbors_key=\"harmony_s_neighbors\",\n",
    "        key_added=f\"leiden_harmony_s_{res}\"\n",
    "    )\n",
    "    gc.collect()"
   ]
  },
  {
   "cell_type": "markdown",
   "id": "519e9e01-4768-4e64-b9af-c08518cccfc6",
   "metadata": {},
   "source": [
    "## QC plots"
   ]
  },
  {
   "cell_type": "code",
   "execution_count": 190,
   "id": "170c77eb-d939-4265-8c51-5c07ab6c4f60",
   "metadata": {},
   "outputs": [],
   "source": [
    "sc.set_figure_params(\n",
    "    # figsize=(14,16),\n",
    "    # fontsize=26,\n",
    "    dpi=300\n",
    ")\n",
    "sc.pl.violin(\n",
    "    adata, \n",
    "    ['n_genes', 'total_counts', 'pct_counts_mito'],\n",
    "    groupby=\"sample\",\n",
    "    jitter=0.4,\n",
    "    rotation=90,\n",
    "    size=0.01,\n",
    "    multi_panel=True\n",
    ")"
   ]
  },
  {
   "cell_type": "code",
   "execution_count": 191,
   "id": "3465eb91-2388-460f-aed8-7b1d9f7e4e35",
   "metadata": {},
   "outputs": [
    {
     "data": {
      "text/plain": [
       "pattern  sample      \n",
       "200um    D4_200um         7354\n",
       "         D21_200um_B      5247\n",
       "         D0_600um            0\n",
       "         D1_600um            0\n",
       "         D4_600um            0\n",
       "         D4_1000um           0\n",
       "         D6_600um            0\n",
       "         D8_600um            0\n",
       "         D12_600um           0\n",
       "         D21_600um           0\n",
       "         D21_1000um_B        0\n",
       "600um    D21_600um       12938\n",
       "         D1_600um        10612\n",
       "         D0_600um         9818\n",
       "         D8_600um         9686\n",
       "         D4_600um         8565\n",
       "         D6_600um         7160\n",
       "         D12_600um        6036\n",
       "         D4_200um            0\n",
       "         D4_1000um           0\n",
       "         D21_200um_B         0\n",
       "         D21_1000um_B        0\n",
       "1000um   D4_1000um        9966\n",
       "         D21_1000um_B     9019\n",
       "         D0_600um            0\n",
       "         D1_600um            0\n",
       "         D4_200um            0\n",
       "         D4_600um            0\n",
       "         D6_600um            0\n",
       "         D8_600um            0\n",
       "         D12_600um           0\n",
       "         D21_200um_B         0\n",
       "         D21_600um           0\n",
       "Name: sample, dtype: int64"
      ]
     },
     "execution_count": 191,
     "metadata": {},
     "output_type": "execute_result"
    }
   ],
   "source": [
    "adata.obs.groupby('pattern')['sample'].value_counts()"
   ]
  },
  {
   "cell_type": "markdown",
   "id": "cf315b1a",
   "metadata": {
    "tags": []
   },
   "source": [
    "## PHATE"
   ]
  },
  {
   "attachments": {},
   "cell_type": "markdown",
   "id": "876308e1-6fcb-40bc-9fa8-53eac4d93739",
   "metadata": {},
   "source": [
    "PHATE reduction to look at gradual changes in data \n",
    "[[source](https://nbviewer.jupyter.org/github/KrishnaswamyLab/PHATE/blob/master/Python/tutorial/EmbryoidBody.ipynb)]  \n",
    "Great resource from PHATE authors on parameterization: [[link](https://dburkhardt.github.io/tutorial/visualizing_phate/#:~:text=PHATE%20has%20three%20key%20parameters,decay%20of%20the%20kernel%20tails)]"
   ]
  },
  {
   "cell_type": "markdown",
   "id": "1c28643e-47a4-4610-b7b9-ec7c94057986",
   "metadata": {},
   "source": [
    "Compute PHATE embedding from the count matrix"
   ]
  },
  {
   "cell_type": "code",
   "execution_count": 192,
   "id": "13f1dbbb-72e2-4b84-ac33-9bbc58b38c97",
   "metadata": {},
   "outputs": [
    {
     "name": "stdout",
     "output_type": "stream",
     "text": [
      "computing PHATE\n",
      "Calculating PHATE...\n",
      "  Running PHATE on 96401 observations and 24072 variables.\n",
      "  Calculating graph and diffusion operator...\n",
      "    Calculating PCA...\n"
     ]
    },
    {
     "name": "stderr",
     "output_type": "stream",
     "text": [
      "/home/dwm269/miniconda3/envs/pyRNA6/lib/python3.10/site-packages/phate/phate.py:186: FutureWarning: k is deprecated. Please use knn in future.\n",
      "  warnings.warn(\"k is deprecated. Please use knn in future.\", FutureWarning)\n",
      "/home/dwm269/miniconda3/envs/pyRNA6/lib/python3.10/site-packages/phate/phate.py:190: FutureWarning: a is deprecated. Please use decay in future.\n",
      "  warnings.warn(\"a is deprecated. Please use decay in future.\", FutureWarning)\n"
     ]
    },
    {
     "name": "stdout",
     "output_type": "stream",
     "text": [
      "    Calculated PCA in 265.65 seconds.\n",
      "    Calculating KNN search...\n",
      "    Calculated KNN search in 683.22 seconds.\n",
      "    Calculating affinities...\n",
      "    Calculated affinities in 807.90 seconds.\n",
      "  Calculated graph and diffusion operator in 1759.31 seconds.\n",
      "  Calculating landmark operator...\n",
      "    Calculating SVD...\n",
      "    Calculated SVD in 37.12 seconds.\n",
      "    Calculating KMeans...\n",
      "    Calculated KMeans in 32.08 seconds.\n",
      "  Calculated landmark operator in 74.36 seconds.\n",
      "  Calculating optimal t...\n",
      "    Automatically selected t = 26\n",
      "  Calculated optimal t in 8.36 seconds.\n",
      "  Calculating diffusion potential...\n",
      "  Calculated diffusion potential in 3.34 seconds.\n",
      "  Calculating metric MDS...\n",
      "  Calculated metric MDS in 11.08 seconds.\n",
      "Calculated PHATE in 1856.48 seconds.\n",
      "    finished: added\n",
      "    'X_phate', PHATE coordinates (adata.obsm) (0:30:56)\n"
     ]
    }
   ],
   "source": [
    "sce.tl.phate(\n",
    "    adata,\n",
    "    # knn=100,\n",
    "    # decay=40,\n",
    "    t='auto',\n",
    "    mds_solver='smacof',\n",
    "    # n_pca=50,\n",
    "    n_jobs=16\n",
    ")"
   ]
  },
  {
   "cell_type": "code",
   "execution_count": 202,
   "id": "809841b0-73af-4197-b25a-16b73350eb53",
   "metadata": {},
   "outputs": [
    {
     "name": "stderr",
     "output_type": "stream",
     "text": [
      "/home/dwm269/miniconda3/envs/pyRNA6/lib/python3.10/site-packages/scanpy/plotting/_tools/scatterplots.py:392: UserWarning: No data for colormapping provided via 'c'. Parameters 'cmap' will be ignored\n",
      "  cax = scatter(\n",
      "/home/dwm269/miniconda3/envs/pyRNA6/lib/python3.10/site-packages/scanpy/plotting/_tools/scatterplots.py:392: UserWarning: No data for colormapping provided via 'c'. Parameters 'cmap' will be ignored\n",
      "  cax = scatter(\n"
     ]
    }
   ],
   "source": [
    "sc.set_figure_params(\n",
    "    figsize=(4,4),\n",
    "    dpi=200\n",
    ")\n",
    "sc.pl.embedding(\n",
    "    adata,\n",
    "    basis='X_phate',\n",
    "    color=[\"phase\",\"time_int\", \"sample\"],#['sample','leiden_harmony', 'phase', \"time_int\"],\n",
    "#     edges=True, edges_width=0.005,\n",
    "    palette='tab20b',\n",
    "    legend_loc='on data',\n",
    "#     legend_loc='right',\n",
    "    legend_fontsize=8,\n",
    "#      add_outline=True,\n",
    "    size=3,\n",
    "    cmap=\"plasma\",\n",
    "    sort_order=False,\n",
    "    ncols=2\n",
    ")"
   ]
  },
  {
   "cell_type": "markdown",
   "id": "1939b136-b848-4de2-8903-33b8c1327ded",
   "metadata": {},
   "source": [
    "Compute PHATE embedding from the Harmony-integrated reduced dimensions\n",
    "- Using the number of harmony dimensions that contain >95% of variance"
   ]
  },
  {
   "cell_type": "code",
   "execution_count": 194,
   "id": "e9fa16d0-13f4-4bad-8533-1af67a4ef624",
   "metadata": {},
   "outputs": [],
   "source": [
    "import phate"
   ]
  },
  {
   "cell_type": "code",
   "execution_count": 216,
   "id": "35e1cdb2",
   "metadata": {},
   "outputs": [
    {
     "name": "stdout",
     "output_type": "stream",
     "text": [
      "Calculating PHATE...\n",
      "  Running PHATE on 96401 observations and 41 variables.\n",
      "  Calculating graph and diffusion operator...\n",
      "    Calculating KNN search...\n",
      "    Calculated KNN search in 477.30 seconds.\n",
      "    Calculating affinities...\n",
      "    Calculated affinities in 2.33 seconds.\n",
      "  Calculated graph and diffusion operator in 480.30 seconds.\n",
      "  Calculating landmark operator...\n",
      "    Calculating SVD...\n",
      "    Calculated SVD in 28.04 seconds.\n",
      "    Calculating KMeans...\n",
      "    Calculated KMeans in 34.03 seconds.\n",
      "  Calculated landmark operator in 66.56 seconds.\n",
      "  Calculating optimal t...\n",
      "    Automatically selected t = 25\n",
      "  Calculated optimal t in 6.08 seconds.\n",
      "  Calculating diffusion potential...\n",
      "  Calculated diffusion potential in 3.32 seconds.\n",
      "  Calculating metric MDS...\n",
      "  Calculated metric MDS in 30.83 seconds.\n",
      "Calculated PHATE in 587.46 seconds.\n"
     ]
    }
   ],
   "source": [
    "phate_operator = phate.PHATE(\n",
    "    knn=10,\n",
    "    decay=40,\n",
    "    t='auto',\n",
    "    mds_solver='smacof',\n",
    "    n_jobs=42\n",
    ")\n",
    "\n",
    "# Use top N harmony dims which account for 95% of variance in harmony embedding\n",
    "n_dims=npcs(adata,reduction=\"harmony_sp\")\n",
    "tmp_phate = phate_operator.fit_transform(adata.obsm[\"harmony_sp\"][:,:n_dims]) \n",
    "adata.obsm['phate_harmony_sp'] = tmp_phate"
   ]
  },
  {
   "cell_type": "code",
   "execution_count": 217,
   "id": "8a9ac917",
   "metadata": {},
   "outputs": [
    {
     "name": "stderr",
     "output_type": "stream",
     "text": [
      "/home/dwm269/miniconda3/envs/pyRNA6/lib/python3.10/site-packages/scanpy/plotting/_tools/scatterplots.py:392: UserWarning: No data for colormapping provided via 'c'. Parameters 'cmap' will be ignored\n",
      "  cax = scatter(\n"
     ]
    }
   ],
   "source": [
    "sc.set_figure_params(\n",
    "    figsize=(4,4),\n",
    "    dpi=200\n",
    ")\n",
    "sc.pl.embedding(\n",
    "    adata,\n",
    "    basis='phate_harmony_sp',\n",
    "    color=['leiden_harmony_sp_1.0'],#\n",
    "    # color=['sample','leiden_harmony_sp_10_types', 'phase', \"time_int\"],\n",
    "#     edges=True, edges_width=0.005,\n",
    "    palette='tab20b',\n",
    "    legend_loc='on data',\n",
    "#     legend_loc='right',\n",
    "    legend_fontsize=8,\n",
    "#      add_outline=True,\n",
    "    size=1.5,\n",
    "    sort_order=False,\n",
    "    ncols=2\n",
    ")"
   ]
  },
  {
   "cell_type": "code",
   "execution_count": 197,
   "id": "94520cb7",
   "metadata": {},
   "outputs": [],
   "source": [
    "sc.set_figure_params(\n",
    "    figsize=(4,4),\n",
    "    dpi=200\n",
    ")\n",
    "sc.pl.embedding(\n",
    "    adata,\n",
    "    basis='phate_harmony_sp',\n",
    "    color=[ \"doublet_score\"], #'EPCAM','KDR', 'PECAM1',\n",
    "    color_map='viridis',\n",
    "    size=0.5,\n",
    "    ncols=2,\n",
    "    sort_order=True\n",
    ")"
   ]
  },
  {
   "cell_type": "markdown",
   "id": "8d84271f-0700-45f9-91ee-05d995957e8c",
   "metadata": {},
   "source": [
    "Repeat PHATE with CC-regressed Harmony embedding"
   ]
  },
  {
   "cell_type": "code",
   "execution_count": 198,
   "id": "c365b52a-7dd3-4647-86e9-57d7df30de86",
   "metadata": {},
   "outputs": [
    {
     "name": "stdout",
     "output_type": "stream",
     "text": [
      "Calculating PHATE...\n",
      "  Running PHATE on 96401 observations and 42 variables.\n",
      "  Calculating graph and diffusion operator...\n",
      "    Calculating KNN search...\n",
      "    Calculated KNN search in 466.28 seconds.\n",
      "    Calculating affinities...\n",
      "    Calculated affinities in 4.49 seconds.\n",
      "  Calculated graph and diffusion operator in 471.46 seconds.\n",
      "  Calculating landmark operator...\n",
      "    Calculating SVD...\n",
      "    Calculated SVD in 22.85 seconds.\n",
      "    Calculating KMeans...\n",
      "    Calculated KMeans in 39.59 seconds.\n",
      "  Calculated landmark operator in 67.77 seconds.\n",
      "  Calculating optimal t...\n",
      "    Automatically selected t = 31\n",
      "  Calculated optimal t in 6.74 seconds.\n",
      "  Calculating diffusion potential...\n",
      "  Calculated diffusion potential in 4.41 seconds.\n",
      "  Calculating metric MDS...\n",
      "  Calculated metric MDS in 25.88 seconds.\n",
      "Calculated PHATE in 576.31 seconds.\n"
     ]
    }
   ],
   "source": [
    "phate_operator = phate.PHATE(\n",
    "    knn=5,\n",
    "    decay=40,\n",
    "    # gamma=1,\n",
    "    # n_pca=20,\n",
    "    t='auto',\n",
    "    mds_solver='smacof',\n",
    "    n_jobs=42\n",
    ")\n",
    "\n",
    "# Use top N harmony dims which account for 95% of variance in harmony embedding\n",
    "n_dims=npcs(adata,reduction=\"harmony_s\")\n",
    "tmp_phate = phate_operator.fit_transform(adata.obsm[\"harmony_s\"][:,:n_dims]) \n",
    "adata.obsm['phate_harmony_s'] = tmp_phate"
   ]
  },
  {
   "cell_type": "code",
   "execution_count": 199,
   "id": "14f140ad-8c7c-48d7-9a4c-51f8b3f70147",
   "metadata": {},
   "outputs": [
    {
     "name": "stderr",
     "output_type": "stream",
     "text": [
      "/home/dwm269/miniconda3/envs/pyRNA6/lib/python3.10/site-packages/scanpy/plotting/_tools/scatterplots.py:392: UserWarning: No data for colormapping provided via 'c'. Parameters 'cmap' will be ignored\n",
      "  cax = scatter(\n",
      "/home/dwm269/miniconda3/envs/pyRNA6/lib/python3.10/site-packages/scanpy/plotting/_tools/scatterplots.py:392: UserWarning: No data for colormapping provided via 'c'. Parameters 'cmap' will be ignored\n",
      "  cax = scatter(\n",
      "/home/dwm269/miniconda3/envs/pyRNA6/lib/python3.10/site-packages/scanpy/plotting/_tools/scatterplots.py:392: UserWarning: No data for colormapping provided via 'c'. Parameters 'cmap' will be ignored\n",
      "  cax = scatter(\n"
     ]
    }
   ],
   "source": [
    "sc.set_figure_params(\n",
    "    figsize=(4,4),\n",
    "    dpi=200\n",
    ")\n",
    "sc.pl.embedding(\n",
    "    adata,\n",
    "    basis='phate_harmony_s',\n",
    "    color=['sample','leiden_harmony_s_1.0', 'phase', \"time_int\"],\n",
    "#     edges=True, edges_width=0.005,\n",
    "    palette='tab20b',\n",
    "    legend_loc='on data',\n",
    "#     legend_loc='right',\n",
    "    legend_fontsize=8,\n",
    "#      add_outline=True,\n",
    "    size=2,\n",
    "    sort_order=False,\n",
    "    ncols=2\n",
    ")"
   ]
  },
  {
   "cell_type": "code",
   "execution_count": 200,
   "id": "a5200580-b500-4c67-937f-3fd5170ef6bd",
   "metadata": {},
   "outputs": [],
   "source": [
    "sc.set_figure_params(\n",
    "    figsize=(6,4),\n",
    "    dpi=200\n",
    ")\n",
    "sc.pl.violin(\n",
    "    adata,\n",
    "    groupby='leiden_harmony_s_1.0',#['sample','leiden_harmony', 'phase', \"time_int\"],\n",
    "    palette='tab20b',\n",
    "    keys=\"doublet_score\",\n",
    "    size=0,\n",
    "    inner=\"box\"\n",
    ")"
   ]
  },
  {
   "cell_type": "markdown",
   "id": "731abb1f-3d95-4a47-a535-fe4ec8550205",
   "metadata": {},
   "source": [
    "### Compute/plot density across the PHATE embedding\n",
    "##### https://scanpy.readthedocs.io/en/stable/generated/scanpy.tl.embedding_density.html"
   ]
  },
  {
   "cell_type": "code",
   "execution_count": 204,
   "id": "eeab672d",
   "metadata": {},
   "outputs": [],
   "source": [
    "# sc.set_figure_params(figsize=(4,4),dpi=200)\n",
    "\n",
    "# sc.tl.embedding_density(\n",
    "#     adata,\n",
    "#     basis='phate_harmony_sp', \n",
    "#     groupby='timepoint'\n",
    "# )\n",
    "# sc.pl.embedding_density(\n",
    "#     adata,\n",
    "#     basis='phate_harmony_sp',\n",
    "#     key='phate_harmony_density_timepoint', \n",
    "#     bg_dotsize=5,\n",
    "#     fg_dotsize=5,\n",
    "#     ncols=3,\n",
    "#     group=['D0','D1','D4','D6','D8','D21']\n",
    "# )"
   ]
  },
  {
   "cell_type": "markdown",
   "id": "8d181b8b",
   "metadata": {
    "tags": []
   },
   "source": [
    "## Save preprocessed object for future analyses"
   ]
  },
  {
   "cell_type": "code",
   "execution_count": 205,
   "id": "58835c64",
   "metadata": {},
   "outputs": [],
   "source": [
    "# Make sure that time points are saved as a continuous variable, not a categorical variable\n",
    "adata.obs[\"time_int\"] = adata.obs[\"time_int\"].astype(\"float\")"
   ]
  },
  {
   "cell_type": "code",
   "execution_count": 218,
   "id": "365c9266",
   "metadata": {},
   "outputs": [],
   "source": [
    "# Save h5ad object for subsequent python analyses\n",
    "# adata.write(\"data/pyobjs/scCO_v7.h5ad\")\n",
    "adata.write(\"data/pyobjs/scCO_v1a.h5ad\")"
   ]
  },
  {
   "cell_type": "code",
   "execution_count": 219,
   "id": "c8bd2c9e-6077-460e-a3e5-62631edaf5d9",
   "metadata": {},
   "outputs": [
    {
     "data": {
      "text/plain": [
       "40"
      ]
     },
     "execution_count": 219,
     "metadata": {},
     "output_type": "execute_result"
    }
   ],
   "source": [
    "gc.collect()"
   ]
  }
 ],
 "metadata": {
  "celltoolbar": "Raw Cell Format",
  "kernelspec": {
   "display_name": "Python 3 (ipykernel)",
   "language": "python",
   "name": "python3"
  },
  "language_info": {
   "codemirror_mode": {
    "name": "ipython",
    "version": 3
   },
   "file_extension": ".py",
   "mimetype": "text/x-python",
   "name": "python",
   "nbconvert_exporter": "python",
   "pygments_lexer": "ipython3",
   "version": "3.10.8"
  },
  "vscode": {
   "interpreter": {
    "hash": "157036d7cdf42462b629e35d1a2b30fe3be4494c98ec77e2698e70f0239e05b0"
   }
  }
 },
 "nbformat": 4,
 "nbformat_minor": 5
}
