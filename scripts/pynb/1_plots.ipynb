{
 "cells": [
  {
   "cell_type": "code",
   "execution_count": 1,
   "metadata": {},
   "outputs": [],
   "source": [
    "from itertools import chain\n",
    "from itertools import product\n",
    "import numpy as np\n",
    "import anndata as ad\n",
    "import pandas as pd\n",
    "import scanpy as sc\n",
    "import scanpy.external as sce\n",
    "# import harmonypy as harmony\n",
    "import seaborn as sns\n",
    "from scipy import io\n",
    "from scipy import sparse\n",
    "\n",
    "# import scvelo as scv\n",
    "# import cellrank as cr"
   ]
  },
  {
   "attachments": {},
   "cell_type": "markdown",
   "metadata": {},
   "source": [
    "link to `sc-toolbox` github: https://github.com/schillerlab/sc-toolbox"
   ]
  },
  {
   "cell_type": "code",
   "execution_count": 2,
   "metadata": {},
   "outputs": [
    {
     "ename": "ModuleNotFoundError",
     "evalue": "No module named 'sc_toolbox'",
     "output_type": "error",
     "traceback": [
      "\u001b[0;31m---------------------------------------------------------------------------\u001b[0m",
      "\u001b[0;31mModuleNotFoundError\u001b[0m                       Traceback (most recent call last)",
      "Cell \u001b[0;32mIn[2], line 1\u001b[0m\n\u001b[0;32m----> 1\u001b[0m \u001b[39mimport\u001b[39;00m \u001b[39msc_toolbox\u001b[39;00m \u001b[39mas\u001b[39;00m \u001b[39msctb\u001b[39;00m \u001b[39m# not updated for python 3.10\u001b[39;00m\n",
      "\u001b[0;31mModuleNotFoundError\u001b[0m: No module named 'sc_toolbox'"
     ]
    }
   ],
   "source": [
    "# import sc_toolbox as sctb # not updated for python 3.10"
   ]
  },
  {
   "cell_type": "code",
   "execution_count": 3,
   "metadata": {},
   "outputs": [],
   "source": [
    "import os\n",
    "os.chdir('/local/workdir/dwm269/scCardiacOrganoid/')"
   ]
  },
  {
   "cell_type": "code",
   "execution_count": 4,
   "metadata": {},
   "outputs": [],
   "source": [
    "from scripts.py.utils import *\n",
    "from scripts.py.plots import *"
   ]
  },
  {
   "cell_type": "markdown",
   "metadata": {},
   "source": [
    "# Plots"
   ]
  },
  {
   "cell_type": "code",
   "execution_count": 5,
   "metadata": {},
   "outputs": [],
   "source": [
    "# scanpy github issue reference- https://github.com/scverse/scanpy/issues/955\n",
    "def facet_embedding(adata, clust_key, basis, size=60, frameon=False, legend_loc=None, **kwargs):\n",
    "    tmp = adata.copy()\n",
    "\n",
    "    for i,clust in enumerate(adata.obs[clust_key].cat.categories):\n",
    "        tmp.obs[clust] = adata.obs[clust_key].isin([clust]).astype('category')\n",
    "        tmp.uns[clust+'_colors'] = ['#d3d3d3', adata.uns[clust_key+'_colors'][i]]\n",
    "\n",
    "    sc.pl.embedding(\n",
    "        tmp, \n",
    "        groups=tmp.obs[clust].cat.categories[1:].values, \n",
    "        color=adata.obs[clust_key].cat.categories.tolist(), \n",
    "        basis=basis,\n",
    "        size=size, frameon=frameon, legend_loc=legend_loc, \n",
    "        **kwargs\n",
    "    )"
   ]
  },
  {
   "cell_type": "code",
   "execution_count": null,
   "metadata": {},
   "outputs": [],
   "source": [
    "facet_embedding(\n",
    "    adata,\n",
    "    clust_key='leiden_harmony_sp_1.0',\n",
    "    basis='phate_harmony_sp'\n",
    ")"
   ]
  },
  {
   "cell_type": "code",
   "execution_count": null,
   "metadata": {},
   "outputs": [],
   "source": [
    "ax = plt.subplot()\n",
    "sc.pl.embedding(\n",
    "    adata,\n",
    "    basis='phate_harmony_sp',\n",
    "    ax=ax,\n",
    "    color=[\"leiden_harmony_sp_1.0\"], \n",
    "    size=0.1,\n",
    "    alpha=0.4,\n",
    "    ncols=2, \n",
    "    show=False\n",
    ")\n",
    "sc.pl.umap(\n",
    "    adata[adata.obs[\"timepoint\"].isin([\"a\"])],\n",
    "    color=\"louvain\",\n",
    "    ax=ax, show=False\n",
    ")\n",
    "plt.show()"
   ]
  },
  {
   "cell_type": "markdown",
   "metadata": {},
   "source": [
    "# Cell type distributions"
   ]
  },
  {
   "cell_type": "markdown",
   "metadata": {},
   "source": [
    "https://gist.github.com/wflynny/79c5266cc39a4a884958d696f84f85df"
   ]
  },
  {
   "cell_type": "code",
   "execution_count": null,
   "metadata": {},
   "outputs": [],
   "source": [
    "# import scanpy.api as sc\n",
    "import matplotlib.pyplot as plt\n",
    "import seaborn as sns\n",
    "\n",
    "def get_cluster_proportions(adata,\n",
    "                            cluster_key=\"cluster_final\",\n",
    "                            sample_key=\"replicate\",\n",
    "                            drop_values=None):\n",
    "    \"\"\"\n",
    "    Input\n",
    "    =====\n",
    "    adata : AnnData object\n",
    "    cluster_key : key of `adata.obs` storing cluster info\n",
    "    sample_key : key of `adata.obs` storing sample/replicate info\n",
    "    drop_values : list/iterable of possible values of `sample_key` that you don't want\n",
    "    \n",
    "    Returns\n",
    "    =======\n",
    "    pd.DataFrame with samples as the index and clusters as the columns and 0-100 floats\n",
    "    as values\n",
    "    \"\"\"\n",
    "    \n",
    "    adata_tmp = adata.copy()\n",
    "    sizes = adata_tmp.obs.groupby([cluster_key, sample_key]).size()\n",
    "    props = sizes.groupby(level=1).apply(lambda x: 100 * x / x.sum()).reset_index() \n",
    "    props = props.pivot(columns=sample_key, index=cluster_key).T\n",
    "    props.index = props.index.droplevel(0)\n",
    "    props.fillna(0, inplace=True)\n",
    "    \n",
    "    if drop_values is not None:\n",
    "        for drop_value in drop_values:\n",
    "            props.drop(drop_value, axis=0, inplace=True)\n",
    "    return props\n",
    "\n",
    "\n",
    "def plot_cluster_proportions(cluster_props, \n",
    "                             cluster_palette=None,\n",
    "                             xlabel_rotation=0): \n",
    "    fig, ax = plt.subplots(dpi=300)\n",
    "    fig.patch.set_facecolor(\"white\")\n",
    "    \n",
    "    cmap = None\n",
    "    if cluster_palette is not None:\n",
    "        cmap = sns.palettes.blend_palette(\n",
    "            cluster_palette, \n",
    "            n_colors=len(cluster_palette), \n",
    "            as_cmap=True)\n",
    "   \n",
    "    cluster_props.plot(\n",
    "        kind=\"bar\", \n",
    "        stacked=True, \n",
    "        ax=ax, \n",
    "        legend=None, \n",
    "        colormap=cmap\n",
    "    )\n",
    "    \n",
    "    ax.legend(bbox_to_anchor=(1.01, 1), frameon=False, title=\"Cluster\")\n",
    "    sns.despine(fig, ax)\n",
    "    ax.tick_params(axis=\"x\", rotation=xlabel_rotation)\n",
    "    ax.set_xlabel(cluster_props.index.name.capitalize())\n",
    "    ax.set_ylabel(\"Proportion\")\n",
    "    fig.tight_layout()\n",
    "    \n",
    "    return fig"
   ]
  },
  {
   "cell_type": "code",
   "execution_count": null,
   "metadata": {},
   "outputs": [],
   "source": [
    "plot_cluster_proportions(\n",
    "    get_cluster_proportions(\n",
    "        adata[adata.obs[\"time_int\"] == 4],\n",
    "        cluster_key=\"leiden_harmony_sp_10_types\",\n",
    "        sample_key=\"pattern\",\n",
    "        drop_values=None\n",
    "    ),\n",
    "    # cluster_palette=\"tab20b\",\n",
    "    xlabel_rotation=90\n",
    ")\n",
    "gc.collect()"
   ]
  },
  {
   "cell_type": "code",
   "execution_count": null,
   "metadata": {},
   "outputs": [],
   "source": [
    "plot_cluster_proportions(\n",
    "    get_cluster_proportions(\n",
    "        adata[adata.obs[\"time_int\"] == 21],\n",
    "        cluster_key=\"leiden_harmony_sp_10_types\",\n",
    "        sample_key=\"pattern\",\n",
    "        drop_values=None\n",
    "    ),\n",
    "    xlabel_rotation=90\n",
    ")"
   ]
  },
  {
   "cell_type": "code",
   "execution_count": null,
   "metadata": {},
   "outputs": [],
   "source": [
    "plot_cluster_proportions(\n",
    "    get_cluster_proportions(\n",
    "        adata[adata.obs[\"pattern\"] == \"600um\"],\n",
    "        cluster_key=\"leiden_harmony_sp_10_types\",\n",
    "        sample_key=\"timepoint\",\n",
    "        drop_values=None\n",
    "    ),\n",
    "    xlabel_rotation=90\n",
    ")"
   ]
  },
  {
   "cell_type": "code",
   "execution_count": null,
   "metadata": {},
   "outputs": [],
   "source": []
  },
  {
   "cell_type": "code",
   "execution_count": null,
   "metadata": {},
   "outputs": [],
   "source": []
  },
  {
   "cell_type": "code",
   "execution_count": null,
   "metadata": {},
   "outputs": [],
   "source": []
  },
  {
   "cell_type": "code",
   "execution_count": null,
   "metadata": {},
   "outputs": [],
   "source": []
  },
  {
   "cell_type": "code",
   "execution_count": null,
   "metadata": {},
   "outputs": [],
   "source": []
  }
 ],
 "metadata": {
  "kernelspec": {
   "display_name": "pyRNA6",
   "language": "python",
   "name": "python3"
  },
  "language_info": {
   "codemirror_mode": {
    "name": "ipython",
    "version": 3
   },
   "file_extension": ".py",
   "mimetype": "text/x-python",
   "name": "python",
   "nbconvert_exporter": "python",
   "pygments_lexer": "ipython3",
   "version": "3.10.8 | packaged by conda-forge | (main, Nov 22 2022, 08:26:04) [GCC 10.4.0]"
  },
  "orig_nbformat": 4,
  "vscode": {
   "interpreter": {
    "hash": "157036d7cdf42462b629e35d1a2b30fe3be4494c98ec77e2698e70f0239e05b0"
   }
  }
 },
 "nbformat": 4,
 "nbformat_minor": 2
}
